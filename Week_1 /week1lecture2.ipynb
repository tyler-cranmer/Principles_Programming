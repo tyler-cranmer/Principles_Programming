{
 "cells": [
  {
   "cell_type": "markdown",
   "metadata": {},
   "source": [
    "# Week 1, Lecture 2 (Thursday August 27, 2020)\n",
    "\n",
    "We will cover the following topics:\n",
    "  * Val vs Var\n",
    "  * Scala functions: defining them, higher order functions.\n",
    "  * Scala expressions: how are scala expressions put together.\n",
    "  * Scala types\n",
    "  * Scala in-built data structures: List and Map\n",
    "  * Scala classes.\n",
    "  * Writing code using recursive style.\n",
    "  \n",
    "What is the difference between val and var?"
   ]
  },
  {
   "cell_type": "code",
   "execution_count": 14,
   "metadata": {},
   "outputs": [
    {
     "data": {
      "text/html": [
       "<div class=\"jp-RenderedText\">\n",
       "<pre><code><span style=\"color: rgb(0, 187, 187)\"><span class=\"ansi-cyan-fg\">x</span></span>: <span style=\"color: rgb(0, 187, 0)\"><span class=\"ansi-green-fg\">Int</span></span> = <span style=\"color: rgb(0, 187, 0)\"><span class=\"ansi-green-fg\">10</span></span>\n",
       "<span style=\"color: rgb(0, 187, 187)\"><span class=\"ansi-cyan-fg\">y</span></span>: <span style=\"color: rgb(0, 187, 0)\"><span class=\"ansi-green-fg\">Int</span></span> = <style>@keyframes fadein { from { opacity: 0; } to { opacity: 1; } }</style><span style=\"animation: fadein 2s;\"><span style=\"color: rgb(0, 187, 0)\"><span class=\"ansi-green-fg\">16</span></span></span></code></pre>\n",
       "</div>"
      ],
      "text/plain": [
       "\u001b[36mx\u001b[39m: \u001b[32mInt\u001b[39m = \u001b[32m10\u001b[39m\n",
       "\u001b[36my\u001b[39m: \u001b[32mInt\u001b[39m = \u001b[32m16\u001b[39m"
      ]
     },
     "metadata": {},
     "output_type": "display_data"
    }
   ],
   "source": [
    "val x: Int = 10 /* Immutable */\n",
    "var y: Int = 10 /* Mutable */"
   ]
  },
  {
   "cell_type": "code",
   "execution_count": 14,
   "metadata": {},
   "outputs": [
    {
     "name": "stderr",
     "output_type": "stream",
     "text": [
      "cmd14.sc:1: reassignment to val\n",
      "val res14 = x = 11\n",
      "              ^Compilation Failed"
     ]
    },
    {
     "ename": "",
     "evalue": "",
     "output_type": "error",
     "traceback": [
      "Compilation Failed"
     ]
    }
   ],
   "source": [
    "x = 11"
   ]
  },
  {
   "cell_type": "code",
   "execution_count": 15,
   "metadata": {},
   "outputs": [],
   "source": [
    "y = 12"
   ]
  },
  {
   "cell_type": "code",
   "execution_count": 19,
   "metadata": {},
   "outputs": [
    {
     "name": "stdout",
     "output_type": "stream",
     "text": [
      "16\n"
     ]
    }
   ],
   "source": [
    "y = y + 1\n",
    "println(y)"
   ]
  },
  {
   "cell_type": "markdown",
   "metadata": {},
   "source": [
    "val --> immutable identifier. Same as a const declaration in C/C++.\n",
    "\n",
    "var --> mutable: you can reassign.\n",
    "\n",
    "So we would mostly using var and rarely use vals right?? :-)"
   ]
  },
  {
   "cell_type": "code",
   "execution_count": 4,
   "metadata": {},
   "outputs": [
    {
     "data": {
      "text/plain": [
       "\u001b[36mx\u001b[39m: \u001b[32mInt\u001b[39m = \u001b[32m10\u001b[39m\n",
       "\u001b[36my\u001b[39m: \u001b[32mInt\u001b[39m = \u001b[32m20\u001b[39m\n",
       "\u001b[36mz\u001b[39m: \u001b[32mInt\u001b[39m = \u001b[32m0\u001b[39m\n",
       "\u001b[36mw\u001b[39m: \u001b[32mInt\u001b[39m = \u001b[32m200\u001b[39m"
      ]
     },
     "execution_count": 4,
     "metadata": {},
     "output_type": "execute_result"
    }
   ],
   "source": [
    "val x = 10\n",
    "val y = x + 10\n",
    "val z = x - y + 10\n",
    "val w = x * y - z / 15\n",
    "\n",
    "/* int x; */"
   ]
  },
  {
   "cell_type": "markdown",
   "metadata": {},
   "source": [
    "Scala code can be written in the usual way you would write C/C++/Python code: \n",
    "   * Using if/then/else, loops and function calls?\n",
    "   \n",
    "Some notes about use of \";\" and \"return\".\n",
    "\n",
    "__Exercise # 1__ Ask students to fix the code below in class."
   ]
  },
  {
   "cell_type": "code",
   "execution_count": 22,
   "metadata": {},
   "outputs": [
    {
     "name": "stdout",
     "output_type": "stream",
     "text": [
      "10\n",
      "9\n",
      "8\n",
      "7\n",
      "6\n",
      "5\n",
      "4\n",
      "3\n",
      "2\n",
      "1\n",
      "0\n"
     ]
    },
    {
     "data": {
      "text/plain": [
       "defined \u001b[32mfunction\u001b[39m \u001b[36mmyFirstFunction\u001b[39m\n",
       "\u001b[36mres21_1\u001b[39m: \u001b[32mInt\u001b[39m = \u001b[32m0\u001b[39m"
      ]
     },
     "execution_count": 22,
     "metadata": {},
     "output_type": "execute_result"
    }
   ],
   "source": [
    "/* Broken code: please fix */\n",
    "def myFirstFunction(x: Int): Int = {\n",
    "    // If x is non-negative, then \n",
    "    // it should count down from x to zero and print \n",
    "    var y = x;\n",
    "    while (y >= 0) {\n",
    "           println(y); y = y - 1;\n",
    "    }\n",
    "    return 0\n",
    "}\n",
    "\n",
    "myFirstFunction(10)"
   ]
  },
  {
   "cell_type": "markdown",
   "metadata": {},
   "source": [
    "Write the same without var/loop but using recursion.\n",
    "  * Talk about avoiding \"return\" statements.\n",
    "  * if-then-else as a statement vs. if-then-else as an expression."
   ]
  },
  {
   "cell_type": "code",
   "execution_count": 22,
   "metadata": {},
   "outputs": [],
   "source": [
    "/* (x==0)? 1 : 0 conditional expressions*/"
   ]
  },
  {
   "cell_type": "code",
   "execution_count": null,
   "metadata": {},
   "outputs": [],
   "source": [
    "f(x) = { 1  if x <= 0, or 0 otherwise"
   ]
  },
  {
   "cell_type": "code",
   "execution_count": 5,
   "metadata": {},
   "outputs": [
    {
     "data": {
      "text/plain": [
       "defined \u001b[32mfunction\u001b[39m \u001b[36mmyFirstFunctionRec\u001b[39m"
      ]
     },
     "execution_count": 5,
     "metadata": {},
     "output_type": "execute_result"
    }
   ],
   "source": [
    "def myFirstFunctionRec(x: Int): Int = {\n",
    "    if (x < 0)  0 \n",
    "    else { \n",
    "        println(x)\n",
    "        myFirstFunctionRec(x-1)\n",
    "         }\n",
    "}"
   ]
  },
  {
   "cell_type": "code",
   "execution_count": 27,
   "metadata": {},
   "outputs": [
    {
     "data": {
      "text/plain": [
       "defined \u001b[32mfunction\u001b[39m \u001b[36mcountHowManyOccurrences\u001b[39m"
      ]
     },
     "execution_count": 27,
     "metadata": {},
     "output_type": "execute_result"
    }
   ],
   "source": [
    "/* Example 2 with while loop */\n",
    "\n",
    "def countHowManyOccurrences(str: String, ch: Char): Int = {\n",
    "    var count = 0\n",
    "    val n = str.size\n",
    "    for (i <- 0 until n) { /* range(0,n) */\n",
    "        if (str(i) == ch) {\n",
    "            count = count + 1\n",
    "        } // else ()\n",
    "    }\n",
    "    count\n",
    "}"
   ]
  },
  {
   "cell_type": "code",
   "execution_count": 29,
   "metadata": {},
   "outputs": [
    {
     "data": {
      "text/plain": [
       "\u001b[36mz\u001b[39m: \u001b[32mString\u001b[39m = \u001b[32m\"Hello World\"\u001b[39m\n",
       "\u001b[36mres28_1\u001b[39m: \u001b[32mInt\u001b[39m = \u001b[32m2\u001b[39m\n",
       "\u001b[36mres28_2\u001b[39m: \u001b[32mInt\u001b[39m = \u001b[32m1\u001b[39m"
      ]
     },
     "execution_count": 29,
     "metadata": {},
     "output_type": "execute_result"
    }
   ],
   "source": [
    "val z = \"Hello World\"\n",
    "countHowManyOccurrences(z, 'o')\n",
    "countHowManyOccurrences(z, ' ')"
   ]
  },
  {
   "cell_type": "code",
   "execution_count": 24,
   "metadata": {},
   "outputs": [
    {
     "data": {
      "text/plain": [
       "defined \u001b[32mfunction\u001b[39m \u001b[36mrecursiveCountHMO\u001b[39m\n",
       "defined \u001b[32mfunction\u001b[39m \u001b[36mfoo\u001b[39m"
      ]
     },
     "execution_count": 24,
     "metadata": {},
     "output_type": "execute_result"
    }
   ],
   "source": [
    "/*TODO: Write a recursive version in class? */\n",
    "\n",
    "def recursiveCountHMO(s: String, ch: Char): Int = {\n",
    "    if (s.size == 0)  0 \n",
    "    else {\n",
    "        val innerString = s.substring(1) /* Get the substring from 2nd char to end */\n",
    "        if (s(0) == ch) {\n",
    "             1 + recursiveCountHMO(innerString, ch)\n",
    "        } else {\n",
    "             recursiveCountHMO(innerString, ch)\n",
    "        }\n",
    "        \n",
    "    }\n",
    "}\n",
    "\n",
    "\n",
    "\n",
    "\n",
    "def foo(x: Int): Unit = println(x)\n",
    "\n",
    "\n",
    "\n",
    "\n",
    "val str = x.toString /* 10 --> \"10\" */\n",
    "\n",
    "\n",
    "\n"
   ]
  },
  {
   "cell_type": "code",
   "execution_count": 27,
   "metadata": {},
   "outputs": [
    {
     "name": "stderr",
     "output_type": "stream",
     "text": [
      "cmd27.sc:2: Unit does not take parameters\n",
      "val res27_1 = println(unitVal(0))\n",
      "                             ^Compilation Failed"
     ]
    },
    {
     "ename": "",
     "evalue": "",
     "output_type": "error",
     "traceback": [
      "Compilation Failed"
     ]
    }
   ],
   "source": [
    "val unitVal = foo(10)"
   ]
  },
  {
   "cell_type": "code",
   "execution_count": 32,
   "metadata": {},
   "outputs": [
    {
     "data": {
      "text/plain": [
       "defined \u001b[32mfunction\u001b[39m \u001b[36mcountHowManyOccurrencesRec\u001b[39m"
      ]
     },
     "execution_count": 32,
     "metadata": {},
     "output_type": "execute_result"
    }
   ],
   "source": [
    "/* Documentation of scala string API: http://otfried.org/scala/string.html */\n",
    "def countHowManyOccurrencesRec(str: String, ch: Char): Int = {\n",
    "    if (str.size == 0) 0\n",
    "    else {\n",
    "        if (str(0) == ch) {\n",
    "            1 + countHowManyOccurrencesRec(str.substring(1), ch)\n",
    "        } else {\n",
    "            countHowManyOccurrencesRec(str.substring(1), ch)\n",
    "        }\n",
    "    }\n",
    "}"
   ]
  },
  {
   "cell_type": "code",
   "execution_count": 31,
   "metadata": {},
   "outputs": [
    {
     "data": {
      "text/plain": [
       "\u001b[36mz\u001b[39m: \u001b[32mString\u001b[39m = \u001b[32m\"Hello World\"\u001b[39m\n",
       "\u001b[36mres30_1\u001b[39m: \u001b[32mInt\u001b[39m = \u001b[32m2\u001b[39m\n",
       "\u001b[36mres30_2\u001b[39m: \u001b[32mInt\u001b[39m = \u001b[32m1\u001b[39m"
      ]
     },
     "execution_count": 31,
     "metadata": {},
     "output_type": "execute_result"
    }
   ],
   "source": [
    "val z = \"Hello World\"\n",
    "countHowManyOccurrencesRec(z, 'o')\n",
    "countHowManyOccurrencesRec(z, ' ')"
   ]
  },
  {
   "cell_type": "markdown",
   "metadata": {},
   "source": [
    "Higher order functions: \n",
    "  * Functions can be passed around.\n",
    "  * Functions can create and return other functions.\n",
    "  * Types of functions.\n",
    "  \n",
    "Q: what does the function below do? \n",
    "Ask students to try the `.toString`."
   ]
  },
  {
   "cell_type": "code",
   "execution_count": 7,
   "metadata": {},
   "outputs": [
    {
     "data": {
      "text/plain": [
       "\u001b[36mx\u001b[39m: \u001b[32mInt\u001b[39m = \u001b[32m25\u001b[39m\n",
       "\u001b[36mres6_1\u001b[39m: \u001b[32mString\u001b[39m = \u001b[32m\"25\"\u001b[39m"
      ]
     },
     "execution_count": 7,
     "metadata": {},
     "output_type": "execute_result"
    }
   ],
   "source": [
    "val x = 25\n",
    "x.toString"
   ]
  },
  {
   "cell_type": "code",
   "execution_count": 20,
   "metadata": {},
   "outputs": [
    {
     "data": {
      "text/plain": [
       "defined \u001b[32mfunction\u001b[39m \u001b[36mfunctionA\u001b[39m"
      ]
     },
     "execution_count": 20,
     "metadata": {},
     "output_type": "execute_result"
    }
   ],
   "source": [
    "/*-- Function that takes in another function as input \n",
    "  Q to students: what does this code do?\n",
    "--*/\n",
    "def functionA (x: Int, foo: Int => String): String =  {\n",
    "    if (x <= 0) x.toString\n",
    "    else foo(x)\n",
    "}\n"
   ]
  },
  {
   "cell_type": "code",
   "execution_count": 21,
   "metadata": {},
   "outputs": [
    {
     "data": {
      "text/plain": [
       "defined \u001b[32mfunction\u001b[39m \u001b[36mintToStringFancyConverter\u001b[39m\n",
       "defined \u001b[32mfunction\u001b[39m \u001b[36maltConverter\u001b[39m"
      ]
     },
     "execution_count": 21,
     "metadata": {},
     "output_type": "execute_result"
    }
   ],
   "source": [
    "def intToStringFancyConverter(x: Int): String = \"Natural Number: \" + x\n",
    "def altConverter(x: Int): String = x.toString + \"<-- important number\""
   ]
  },
  {
   "cell_type": "code",
   "execution_count": 22,
   "metadata": {},
   "outputs": [
    {
     "data": {
      "text/plain": [
       "\u001b[36mstr1\u001b[39m: \u001b[32mString\u001b[39m = \u001b[32m\"Natural Number: 100\"\u001b[39m\n",
       "\u001b[36mstr2\u001b[39m: \u001b[32mString\u001b[39m = \u001b[32m\"-20\"\u001b[39m\n",
       "\u001b[36mstr3\u001b[39m: \u001b[32mString\u001b[39m = \u001b[32m\"120<-- important number\"\u001b[39m"
      ]
     },
     "execution_count": 22,
     "metadata": {},
     "output_type": "execute_result"
    }
   ],
   "source": [
    "val str1 = functionA(100, intToStringFancyConverter)\n",
    "val str2 = functionA(-20, altConverter)\n",
    "val str3 = functionA(120, altConverter)"
   ]
  },
  {
   "cell_type": "markdown",
   "metadata": {},
   "source": [
    "Briefly mention tuples"
   ]
  },
  {
   "cell_type": "code",
   "execution_count": 28,
   "metadata": {},
   "outputs": [
    {
     "data": {
      "text/plain": [
       "\u001b[36mx\u001b[39m: (\u001b[32mInt\u001b[39m, \u001b[32mString\u001b[39m) = (\u001b[32m1\u001b[39m, \u001b[32m\"10\"\u001b[39m)\n",
       "\u001b[36my\u001b[39m: (\u001b[32mInt\u001b[39m, \u001b[32mInt\u001b[39m, \u001b[32mString\u001b[39m, \u001b[32mString\u001b[39m, \u001b[32mChar\u001b[39m) = (\u001b[32m1\u001b[39m, \u001b[32m15\u001b[39m, \u001b[32m\"10\"\u001b[39m, \u001b[32m\"Hello\"\u001b[39m, \u001b[32m'c'\u001b[39m)"
      ]
     },
     "execution_count": 28,
     "metadata": {},
     "output_type": "execute_result"
    }
   ],
   "source": [
    "val x = (1, \"10\")\n",
    "val y = (1, 15, \"10\", \"Hello\", 'c')"
   ]
  },
  {
   "cell_type": "code",
   "execution_count": 38,
   "metadata": {},
   "outputs": [
    {
     "name": "stdout",
     "output_type": "stream",
     "text": [
      "1\n",
      "10\n",
      "Hello\n"
     ]
    }
   ],
   "source": [
    "println(x._1)\n",
    "println(x._2)\n",
    "println(y._4)"
   ]
  },
  {
   "cell_type": "markdown",
   "metadata": {},
   "source": [
    "  * Basic types in Scala:  Int, Float, Double, String, Char, ...\n",
    "  * Tuple Type: (T1, T2, T3, T4)\n",
    "  * Function types: T1 => T2 : function whose inputs are of type T1, output of type T2\n",
    "\n"
   ]
  },
  {
   "cell_type": "code",
   "execution_count": 39,
   "metadata": {},
   "outputs": [
    {
     "data": {
      "text/plain": [
       "defined \u001b[32mfunction\u001b[39m \u001b[36mfoo\u001b[39m"
      ]
     },
     "execution_count": 39,
     "metadata": {},
     "output_type": "execute_result"
    }
   ],
   "source": [
    "def foo(x: Int): Char = {x.toChar}"
   ]
  },
  {
   "cell_type": "code",
   "execution_count": 40,
   "metadata": {},
   "outputs": [
    {
     "data": {
      "text/plain": [
       "defined \u001b[32mfunction\u001b[39m \u001b[36mbar\u001b[39m"
      ]
     },
     "execution_count": 40,
     "metadata": {},
     "output_type": "execute_result"
    }
   ],
   "source": [
    "def bar(x: Int, y: Int): String = { (x + y).toString }"
   ]
  },
  {
   "cell_type": "code",
   "execution_count": 42,
   "metadata": {},
   "outputs": [
    {
     "data": {
      "text/plain": [
       "defined \u001b[32mfunction\u001b[39m \u001b[36mpairFun\u001b[39m"
      ]
     },
     "execution_count": 42,
     "metadata": {},
     "output_type": "execute_result"
    }
   ],
   "source": [
    "def pairFun(x: Int, y: String, z: Int): (Int, String) = (x+z, y)"
   ]
  },
  {
   "cell_type": "markdown",
   "metadata": {},
   "source": [
    "foo has type Int => Char\n",
    "\n",
    "bar has type (Int, Int) => String\n",
    "\n",
    "pairFun has type (Int, String, Int) => (Int, String)"
   ]
  },
  {
   "cell_type": "markdown",
   "metadata": {},
   "source": [
    "### Scala in-built data structures\n",
    "\n",
    "Immutable: List, Map, Set, ..\n",
    "\n",
    "Mutable: Array\n"
   ]
  },
  {
   "cell_type": "code",
   "execution_count": 43,
   "metadata": {},
   "outputs": [
    {
     "data": {
      "text/plain": [
       "\u001b[36mx\u001b[39m: \u001b[32mList\u001b[39m[\u001b[32mInt\u001b[39m] = \u001b[33mList\u001b[39m(\u001b[32m1\u001b[39m, \u001b[32m2\u001b[39m, \u001b[32m3\u001b[39m, \u001b[32m4\u001b[39m, \u001b[32m5\u001b[39m)"
      ]
     },
     "execution_count": 43,
     "metadata": {},
     "output_type": "execute_result"
    }
   ],
   "source": [
    "val x : List[Int] = List(1, 2, 3, 4, 5)"
   ]
  },
  {
   "cell_type": "code",
   "execution_count": 44,
   "metadata": {},
   "outputs": [
    {
     "data": {
      "text/plain": [
       "\u001b[36my\u001b[39m: \u001b[32mList\u001b[39m[\u001b[32mString\u001b[39m] = \u001b[33mList\u001b[39m(\u001b[32m\"1\"\u001b[39m, \u001b[32m\"Hello\"\u001b[39m, \u001b[32m\"World\"\u001b[39m, \u001b[32m\"bar\"\u001b[39m, \u001b[32m\"foo\"\u001b[39m)"
      ]
     },
     "execution_count": 44,
     "metadata": {},
     "output_type": "execute_result"
    }
   ],
   "source": [
    "val y: List[String] = List(\"1\", \"Hello\", \"World\", \"bar\", \"foo\")"
   ]
  },
  {
   "cell_type": "code",
   "execution_count": 45,
   "metadata": {},
   "outputs": [
    {
     "data": {
      "text/plain": [
       "\u001b[36mz\u001b[39m: \u001b[32mList\u001b[39m[(\u001b[32mInt\u001b[39m, \u001b[32mInt\u001b[39m)] = \u001b[33mList\u001b[39m((\u001b[32m1\u001b[39m, \u001b[32m1\u001b[39m), (\u001b[32m1\u001b[39m, \u001b[32m2\u001b[39m), (\u001b[32m2\u001b[39m, \u001b[32m3\u001b[39m), (\u001b[32m1\u001b[39m, \u001b[32m4\u001b[39m), (\u001b[32m17\u001b[39m, \u001b[32m-5\u001b[39m))"
      ]
     },
     "execution_count": 45,
     "metadata": {},
     "output_type": "execute_result"
    }
   ],
   "source": [
    "val z : List[(Int, Int)] = List((1,1), (1,2), (2,3), (1,4), (17,-5))"
   ]
  },
  {
   "cell_type": "code",
   "execution_count": 53,
   "metadata": {},
   "outputs": [
    {
     "name": "stdout",
     "output_type": "stream",
     "text": [
      "5\n"
     ]
    }
   ],
   "source": [
    "println(x.length) // size of a list (# of elements)"
   ]
  },
  {
   "cell_type": "code",
   "execution_count": 47,
   "metadata": {},
   "outputs": [
    {
     "name": "stdout",
     "output_type": "stream",
     "text": [
      "(1,4)\n"
     ]
    }
   ],
   "source": [
    "println(z(3)) // 4th element of a list"
   ]
  },
  {
   "cell_type": "code",
   "execution_count": 48,
   "metadata": {},
   "outputs": [
    {
     "name": "stdout",
     "output_type": "stream",
     "text": [
      "1\n"
     ]
    }
   ],
   "source": [
    "println(x.head) // head of a list same as x(0)"
   ]
  },
  {
   "cell_type": "code",
   "execution_count": 49,
   "metadata": {},
   "outputs": [
    {
     "name": "stdout",
     "output_type": "stream",
     "text": [
      "List(Hello, World, bar, foo)\n"
     ]
    }
   ],
   "source": [
    "println(y.tail) // tail of a list 2nd element to end."
   ]
  },
  {
   "cell_type": "code",
   "execution_count": 50,
   "metadata": {},
   "outputs": [
    {
     "name": "stdout",
     "output_type": "stream",
     "text": [
      "List(foo, bar, World, Hello, 1)\n"
     ]
    }
   ],
   "source": [
    "println(y.reverse) // reverse a list"
   ]
  },
  {
   "cell_type": "code",
   "execution_count": 51,
   "metadata": {},
   "outputs": [
    {
     "data": {
      "text/plain": [
       "\u001b[36my2\u001b[39m: \u001b[32mList\u001b[39m[\u001b[32mString\u001b[39m] = \u001b[33mList\u001b[39m(\u001b[32m\"what\"\u001b[39m, \u001b[32m\"1\"\u001b[39m, \u001b[32m\"Hello\"\u001b[39m, \u001b[32m\"World\"\u001b[39m, \u001b[32m\"bar\"\u001b[39m, \u001b[32m\"foo\"\u001b[39m)"
      ]
     },
     "execution_count": 51,
     "metadata": {},
     "output_type": "execute_result"
    }
   ],
   "source": [
    "val y2 = \"what\" :: y // Append to front using :: (cons) operator"
   ]
  },
  {
   "cell_type": "code",
   "execution_count": 56,
   "metadata": {},
   "outputs": [
    {
     "data": {
      "text/plain": [
       "\u001b[36my3\u001b[39m: \u001b[32mList\u001b[39m[\u001b[32mString\u001b[39m] = \u001b[33mList\u001b[39m(\n",
       "  \u001b[32m\"1\"\u001b[39m,\n",
       "  \u001b[32m\"Hello\"\u001b[39m,\n",
       "  \u001b[32m\"World\"\u001b[39m,\n",
       "  \u001b[32m\"bar\"\u001b[39m,\n",
       "  \u001b[32m\"foo\"\u001b[39m,\n",
       "  \u001b[32m\"what\"\u001b[39m,\n",
       "  \u001b[32m\"1\"\u001b[39m,\n",
       "  \u001b[32m\"Hello\"\u001b[39m,\n",
       "  \u001b[32m\"World\"\u001b[39m,\n",
       "  \u001b[32m\"bar\"\u001b[39m,\n",
       "  \u001b[32m\"foo\"\u001b[39m\n",
       ")"
      ]
     },
     "execution_count": 56,
     "metadata": {},
     "output_type": "execute_result"
    }
   ],
   "source": [
    "val y3 = y ++ y2 // Concatenate two lists using ++ operator"
   ]
  },
  {
   "cell_type": "markdown",
   "metadata": {},
   "source": [
    "See the list API in scala: https://www.tutorialspoint.com/scala/scala_lists.htm"
   ]
  },
  {
   "cell_type": "code",
   "execution_count": 57,
   "metadata": {},
   "outputs": [
    {
     "name": "stdout",
     "output_type": "stream",
     "text": [
      "Hello\n",
      "World\n",
      "bar\n",
      "foo\n",
      "what\n",
      "Hello\n",
      "World\n",
      "bar\n",
      "foo\n"
     ]
    }
   ],
   "source": [
    "for (elt <- y3) {\n",
    "    if (elt.size >= 3)\n",
    "        println(elt)\n",
    "}"
   ]
  },
  {
   "cell_type": "code",
   "execution_count": 58,
   "metadata": {},
   "outputs": [
    {
     "name": "stdout",
     "output_type": "stream",
     "text": [
      "Hello\n",
      "World\n",
      "bar\n",
      "foo\n",
      "what\n",
      "Hello\n",
      "World\n",
      "bar\n",
      "foo\n"
     ]
    }
   ],
   "source": [
    "y3.foreach( elt => { if (elt.size >= 3) println(elt)})"
   ]
  },
  {
   "cell_type": "code",
   "execution_count": 62,
   "metadata": {},
   "outputs": [
    {
     "data": {
      "text/plain": [
       "\u001b[36mm1\u001b[39m: \u001b[32mMap\u001b[39m[\u001b[32mInt\u001b[39m, \u001b[32mString\u001b[39m] = \u001b[33mMap\u001b[39m(\n",
       "  \u001b[32m0\u001b[39m -> \u001b[32m\"Hello\"\u001b[39m,\n",
       "  \u001b[32m1\u001b[39m -> \u001b[32m\"World\"\u001b[39m,\n",
       "  \u001b[32m2\u001b[39m -> \u001b[32m\"Scala\"\u001b[39m,\n",
       "  \u001b[32m3\u001b[39m -> \u001b[32m\"C/C++\"\u001b[39m\n",
       ")"
      ]
     },
     "execution_count": 62,
     "metadata": {},
     "output_type": "execute_result"
    }
   ],
   "source": [
    "val m1 = Map ( 0 -> \"Hello\", 1 -> \"World\", 2 -> \"Scala\", 3 -> \"C/C++\")"
   ]
  },
  {
   "cell_type": "code",
   "execution_count": 60,
   "metadata": {},
   "outputs": [
    {
     "data": {
      "text/plain": [
       "\u001b[36mm2\u001b[39m: \u001b[32mMap\u001b[39m[\u001b[32mString\u001b[39m, \u001b[32mString\u001b[39m] = \u001b[33mMap\u001b[39m(\n",
       "  \u001b[32m\"hell\"\u001b[39m -> \u001b[32m\"Hello\"\u001b[39m,\n",
       "  \u001b[32m\"wold\"\u001b[39m -> \u001b[32m\"World\"\u001b[39m,\n",
       "  \u001b[32m\"scla\"\u001b[39m -> \u001b[32m\"Scala\"\u001b[39m,\n",
       "  \u001b[32m\"badidea\"\u001b[39m -> \u001b[32m\"C/C++\"\u001b[39m\n",
       ")"
      ]
     },
     "execution_count": 60,
     "metadata": {},
     "output_type": "execute_result"
    }
   ],
   "source": [
    "val m2 = Map ( \"hell\" -> \"Hello\", \n",
    "               \"wold\" -> \"World\", \n",
    "               \"scla\" -> \"Scala\", \n",
    "               \"badidea\" -> \"C/C++\")"
   ]
  },
  {
   "cell_type": "code",
   "execution_count": 67,
   "metadata": {},
   "outputs": [
    {
     "name": "stdout",
     "output_type": "stream",
     "text": [
      "Hello\n"
     ]
    },
    {
     "data": {
      "text/plain": [
       "\u001b[36mres66_0\u001b[39m: \u001b[32mBoolean\u001b[39m = true"
      ]
     },
     "execution_count": 67,
     "metadata": {},
     "output_type": "execute_result"
    }
   ],
   "source": [
    "m2.contains(\"hell\")\n",
    "println( m2(\"hell\") )"
   ]
  },
  {
   "cell_type": "code",
   "execution_count": 64,
   "metadata": {},
   "outputs": [
    {
     "data": {
      "text/plain": [
       "\u001b[36mres63\u001b[39m: \u001b[32mBoolean\u001b[39m = false"
      ]
     },
     "execution_count": 64,
     "metadata": {},
     "output_type": "execute_result"
    }
   ],
   "source": [
    "m1.contains(15)\n"
   ]
  },
  {
   "cell_type": "code",
   "execution_count": 69,
   "metadata": {},
   "outputs": [
    {
     "ename": "",
     "evalue": "",
     "output_type": "error",
     "traceback": [
      "\u001b[31mjava.util.NoSuchElementException: key not found: 15\u001b[39m\n  scala.collection.immutable.Map$Map4.apply(\u001b[32mMap.scala\u001b[39m:\u001b[32m207\u001b[39m)\n  ammonite.$sess.cmd68$Helper.<init>(\u001b[32mcmd68.sc\u001b[39m:\u001b[32m1\u001b[39m)\n  ammonite.$sess.cmd68$.<init>(\u001b[32mcmd68.sc\u001b[39m:\u001b[32m7\u001b[39m)\n  ammonite.$sess.cmd68$.<clinit>(\u001b[32mcmd68.sc\u001b[39m:\u001b[32m-1\u001b[39m)"
     ]
    }
   ],
   "source": [
    "println(m1(15))"
   ]
  },
  {
   "cell_type": "code",
   "execution_count": 70,
   "metadata": {},
   "outputs": [
    {
     "data": {
      "text/plain": [
       "\u001b[36mm3\u001b[39m: \u001b[32mMap\u001b[39m[\u001b[32mInt\u001b[39m, \u001b[32mString\u001b[39m] = \u001b[33mMap\u001b[39m(\n",
       "  \u001b[32m0\u001b[39m -> \u001b[32m\"Hello\"\u001b[39m,\n",
       "  \u001b[32m1\u001b[39m -> \u001b[32m\"World\"\u001b[39m,\n",
       "  \u001b[32m2\u001b[39m -> \u001b[32m\"Scala\"\u001b[39m,\n",
       "  \u001b[32m3\u001b[39m -> \u001b[32m\"C/C++\"\u001b[39m,\n",
       "  \u001b[32m-1\u001b[39m -> \u001b[32m\"Bad Idea\"\u001b[39m\n",
       ")"
      ]
     },
     "execution_count": 70,
     "metadata": {},
     "output_type": "execute_result"
    }
   ],
   "source": [
    "val m3 = m1 + (-1 -> \"Bad Idea\") // Add a binding to a map"
   ]
  },
  {
   "cell_type": "markdown",
   "metadata": {},
   "source": [
    "https://www.tutorialspoint.com/scala/scala_maps.htm"
   ]
  },
  {
   "cell_type": "markdown",
   "metadata": {},
   "source": [
    "## Scala Classes and Objects\n",
    "\n",
    "Scala is an objected oriented language. Everything in scala is an object. Even numbers are objects: they have member functions and have inheritance relationships that we will study later."
   ]
  },
  {
   "cell_type": "code",
   "execution_count": 72,
   "metadata": {},
   "outputs": [
    {
     "data": {
      "text/plain": [
       "\u001b[36mx\u001b[39m: \u001b[32mDouble\u001b[39m = \u001b[32m2.1515\u001b[39m\n",
       "\u001b[36mj\u001b[39m: \u001b[32mInt\u001b[39m = \u001b[32m2\u001b[39m\n",
       "\u001b[36mstr\u001b[39m: \u001b[32mString\u001b[39m = \u001b[32m\"2.1515\"\u001b[39m"
      ]
     },
     "execution_count": 72,
     "metadata": {},
     "output_type": "execute_result"
    }
   ],
   "source": [
    "val x: Double = 2.1515\n",
    "val j: Int = x.toInt\n",
    "val str: String = x.toString"
   ]
  },
  {
   "cell_type": "code",
   "execution_count": 81,
   "metadata": {},
   "outputs": [
    {
     "name": "stderr",
     "output_type": "stream",
     "text": [
      "(console):4: 'this' expected but identifier found.\n",
      "        print(\"Auxiliary constructor.\")\n",
      "        ^"
     ]
    },
    {
     "ename": "",
     "evalue": "",
     "output_type": "error",
     "traceback": [
      "(console):4: 'this' expected but identifier found.\n        print(\"Auxiliary constructor.\")\n        ^"
     ]
    }
   ],
   "source": [
    "class FirstClass(val s: String, val t: Int) {\n",
    "    // s and t are class parameters. \n",
    "    /* def this(t: Int) = { \n",
    "        print(\"Auxiliary constructor.\")\n",
    "        this(\"Hello\", t)\n",
    "    } */\n",
    "    // Member of the class\n",
    "    val x : String = s + t.toString  \n",
    "    // Private member\n",
    "    private val y : Int = s.size + t \n",
    "    // Mutable member\n",
    "    var z = t\n",
    "    \n",
    "    // Member function\n",
    "    def sayHello(name: String): Unit = {\n",
    "        val z = s + \" \" + name + \"!!\"\n",
    "        println(z)\n",
    "    }\n",
    "    \n",
    "    // Another member function\n",
    "    def incrZ(): Int = { // Note that if a function does not \n",
    "                       // have any arguments, you do not need ()\n",
    "        z = z + 1\n",
    "        z\n",
    "    }\n",
    "    \n",
    "}"
   ]
  },
  {
   "cell_type": "code",
   "execution_count": 83,
   "metadata": {},
   "outputs": [
    {
     "name": "stdout",
     "output_type": "stream",
     "text": [
      "Konichiwa20\n",
      "Konichiwa Coco Chanel!!\n",
      "23\n"
     ]
    },
    {
     "data": {
      "text/plain": [
       "\u001b[36mf\u001b[39m: \u001b[32mFirstClass\u001b[39m = ammonite.$sess.cmd79$Helper$FirstClass@5e94f5df\n",
       "\u001b[36mres82_3\u001b[39m: \u001b[32mInt\u001b[39m = \u001b[32m21\u001b[39m\n",
       "\u001b[36mres82_4\u001b[39m: \u001b[32mInt\u001b[39m = \u001b[32m22\u001b[39m\n",
       "\u001b[36mres82_5\u001b[39m: \u001b[32mInt\u001b[39m = \u001b[32m23\u001b[39m\n",
       "\u001b[36mg\u001b[39m: \u001b[32mFirstClass\u001b[39m = ammonite.$sess.cmd79$Helper$FirstClass@1f51474"
      ]
     },
     "execution_count": 83,
     "metadata": {},
     "output_type": "execute_result"
    }
   ],
   "source": [
    "val f = new FirstClass(\"Konichiwa\", 20) // Constructor is implicitly built.\n",
    "\n",
    "println(f.x)\n",
    "f.sayHello(\"Coco Chanel\")\n",
    "f.incrZ\n",
    "f.incrZ\n",
    "f.incrZ\n",
    "\n",
    "println(f.z)\n",
    "\n",
    "\n",
    "val g = new FirstClass(35) "
   ]
  },
  {
   "cell_type": "code",
   "execution_count": 0,
   "metadata": {},
   "outputs": [
    {
     "name": "stderr",
     "output_type": "stream",
     "text": [
      "cmd0.sc:1: not found: value f\n",
      "val res0 = println(f.y) // This is not allowed. Why?\n",
      "                   ^Compilation Failed"
     ]
    },
    {
     "ename": "",
     "evalue": "",
     "output_type": "error",
     "traceback": [
      "Compilation Failed"
     ]
    }
   ],
   "source": [
    "println(f.y) // This is not allowed. Why?"
   ]
  },
  {
   "cell_type": "markdown",
   "metadata": {},
   "source": [
    "## Loops into recursion"
   ]
  },
  {
   "cell_type": "code",
   "execution_count": 6,
   "metadata": {},
   "outputs": [
    {
     "data": {
      "text/plain": [
       "defined \u001b[32mfunction\u001b[39m \u001b[36mrepeatKTimes\u001b[39m"
      ]
     },
     "execution_count": 6,
     "metadata": {},
     "output_type": "execute_result"
    }
   ],
   "source": [
    "def repeatKTimes(s: String, k: Int): String = {\n",
    "    var reslt = \"\"\n",
    "    for (i <- 0 until k){\n",
    "        reslt = reslt + s\n",
    "    }\n",
    "    reslt\n",
    "}"
   ]
  },
  {
   "cell_type": "code",
   "execution_count": 12,
   "metadata": {},
   "outputs": [
    {
     "data": {
      "text/plain": [
       "\u001b[36mres11_0\u001b[39m: \u001b[32mString\u001b[39m = \u001b[32m\"AussieAussie\"\u001b[39m\n",
       "\u001b[36mres11_1\u001b[39m: \u001b[32mString\u001b[39m = \u001b[32m\"OiOi\"\u001b[39m\n",
       "\u001b[36mres11_2\u001b[39m: \u001b[32mString\u001b[39m = \u001b[32m\"AussieAussieAussie\"\u001b[39m\n",
       "\u001b[36mres11_3\u001b[39m: \u001b[32mString\u001b[39m = \u001b[32m\"OiOiOi\"\u001b[39m"
      ]
     },
     "execution_count": 12,
     "metadata": {},
     "output_type": "execute_result"
    }
   ],
   "source": [
    "repeatKTimes(\"Aussie\", 2)\n",
    "repeatKTimes(\"Oi\", 2)\n",
    "repeatKTimes(\"Aussie\", 3)\n",
    "repeatKTimes(\"Oi\", 3)"
   ]
  },
  {
   "cell_type": "code",
   "execution_count": 7,
   "metadata": {},
   "outputs": [
    {
     "data": {
      "text/plain": [
       "defined \u001b[32mfunction\u001b[39m \u001b[36mrepeatKTimesRec\u001b[39m"
      ]
     },
     "execution_count": 7,
     "metadata": {},
     "output_type": "execute_result"
    }
   ],
   "source": [
    "def repeatKTimesRec(s: String, k: Int): String = {\n",
    "    if (k <= 0) \"\"\n",
    "    else {\n",
    "        repeatKTimesRec(s, k-1) + s\n",
    "    }\n",
    "}"
   ]
  },
  {
   "cell_type": "code",
   "execution_count": 9,
   "metadata": {},
   "outputs": [
    {
     "data": {
      "text/plain": [
       "defined \u001b[32mfunction\u001b[39m \u001b[36mrepeatKTimesAlt__\u001b[39m\n",
       "defined \u001b[32mfunction\u001b[39m \u001b[36mrepeatKTimesAlt\u001b[39m"
      ]
     },
     "execution_count": 9,
     "metadata": {},
     "output_type": "execute_result"
    }
   ],
   "source": [
    "def repeatKTimesAlt__(s: String, k: Int, result: String) : String = {\n",
    "    if (k <= 0) result\n",
    "    else repeatKTimesAlt__(s, k-1, result + s )\n",
    "}\n",
    "\n",
    "def repeatKTimesAlt(s: String, k: Int): String = repeatKTimesAlt__(s, k, \"\")"
   ]
  },
  {
   "cell_type": "code",
   "execution_count": 13,
   "metadata": {},
   "outputs": [
    {
     "data": {
      "text/plain": [
       "\u001b[36mres12_0\u001b[39m: \u001b[32mString\u001b[39m = \u001b[32m\"DonkeyDonkeyDonkey\"\u001b[39m\n",
       "\u001b[36mres12_1\u001b[39m: \u001b[32mString\u001b[39m = \u001b[32m\"DonkeyDonkeyDonkeyDonkey\"\u001b[39m"
      ]
     },
     "execution_count": 13,
     "metadata": {},
     "output_type": "execute_result"
    }
   ],
   "source": [
    "repeatKTimesAlt(\"Donkey\", 3)\n",
    "repeatKTimesAlt(\"Donkey\", 4)"
   ]
  },
  {
   "cell_type": "code",
   "execution_count": null,
   "metadata": {},
   "outputs": [],
   "source": []
  }
 ],
 "metadata": {
  "kernelspec": {
   "display_name": "Scala",
   "language": "scala",
   "name": "scala"
  },
  "language_info": {
   "codemirror_mode": "text/x-scala",
   "file_extension": ".scala",
   "mimetype": "text/x-scala",
   "name": "scala",
   "nbconvert_exporter": "script",
   "version": "2.12.11"
  }
 },
 "nbformat": 4,
 "nbformat_minor": 4
}
