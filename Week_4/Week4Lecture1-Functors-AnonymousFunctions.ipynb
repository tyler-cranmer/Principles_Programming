{
 "cells": [
  {
   "cell_type": "markdown",
   "metadata": {},
   "source": [
    "## Topics\n",
    "\n",
    "- Functors: Introduction\n",
    "- Anonymous function notation in Scala\n",
    "- Map\n",
    "- Filter\n",
    "- Fold\n",
    "- Combining functors\n",
    "\n",
    "Map/Reduce\n",
    "\n",
    "Apache Spark\n",
    "\n",
    "List: [1, 2, 5, 7, 10, 19, 18, -6]\n",
    "\n",
    "- double every element in the list : Map functor"
   ]
  },
  {
   "cell_type": "code",
   "execution_count": 2,
   "metadata": {},
   "outputs": [
    {
     "data": {
      "text/plain": [
       "defined \u001b[32mfunction\u001b[39m \u001b[36mdoubleEveryElement\u001b[39m"
      ]
     },
     "execution_count": 2,
     "metadata": {},
     "output_type": "execute_result"
    }
   ],
   "source": [
    "def doubleEveryElement(lst: List[Int]): List[Int] = {\n",
    "    var accList: List[Int] = List()\n",
    "    for (elt <- accList){\n",
    "        accList = accList ++ List(2*elt)\n",
    "    }\n",
    "    accList\n",
    "}"
   ]
  },
  {
   "cell_type": "code",
   "execution_count": 3,
   "metadata": {},
   "outputs": [
    {
     "data": {
      "text/plain": [
       "defined \u001b[32mfunction\u001b[39m \u001b[36mdoubleEveryElementRec\u001b[39m"
      ]
     },
     "execution_count": 3,
     "metadata": {},
     "output_type": "execute_result"
    }
   ],
   "source": [
    "def doubleEveryElementRec(lst: List[Int], acc: List[Int]=Nil): List[Int] = {\n",
    "    lst match {\n",
    "        case Nil => { acc }\n",
    "        case elt::tail => { // \n",
    "            val newAcc = acc ++ List(2*elt)\n",
    "            doubleEveryElementRec(tail, newAcc)  \n",
    "        }\n",
    "    }\n",
    "}"
   ]
  },
  {
   "cell_type": "code",
   "execution_count": 4,
   "metadata": {},
   "outputs": [
    {
     "data": {
      "text/plain": [
       "\u001b[36mlst1\u001b[39m: \u001b[32mList\u001b[39m[\u001b[32mInt\u001b[39m] = \u001b[33mList\u001b[39m(\u001b[32m2\u001b[39m, \u001b[32m3\u001b[39m, \u001b[32m4\u001b[39m, \u001b[32m6\u001b[39m, \u001b[32m8\u001b[39m)"
      ]
     },
     "execution_count": 4,
     "metadata": {},
     "output_type": "execute_result"
    }
   ],
   "source": [
    "val lst1 = List(2, 3, 4, 6, 8)"
   ]
  },
  {
   "cell_type": "code",
   "execution_count": 5,
   "metadata": {},
   "outputs": [
    {
     "data": {
      "text/plain": [
       "\u001b[36mlst2\u001b[39m: \u001b[32mList\u001b[39m[\u001b[32mInt\u001b[39m] = \u001b[33mList\u001b[39m(\u001b[32m10\u001b[39m, \u001b[32m2\u001b[39m, \u001b[32m3\u001b[39m, \u001b[32m4\u001b[39m, \u001b[32m6\u001b[39m, \u001b[32m8\u001b[39m)\n",
       "\u001b[36mlst3\u001b[39m: \u001b[32mList\u001b[39m[\u001b[32mInt\u001b[39m] = \u001b[33mList\u001b[39m(\u001b[32m15\u001b[39m, \u001b[32m10\u001b[39m, \u001b[32m2\u001b[39m, \u001b[32m3\u001b[39m, \u001b[32m4\u001b[39m, \u001b[32m6\u001b[39m, \u001b[32m8\u001b[39m)"
      ]
     },
     "execution_count": 5,
     "metadata": {},
     "output_type": "execute_result"
    }
   ],
   "source": [
    "//:: is the Cons operator\n",
    "val lst2 = 10::lst1\n",
    "val lst3 = 15::lst2"
   ]
  },
  {
   "cell_type": "code",
   "execution_count": 6,
   "metadata": {},
   "outputs": [
    {
     "data": {
      "text/plain": [
       "\u001b[36mlst4\u001b[39m: \u001b[32mList\u001b[39m[\u001b[32mInt\u001b[39m] = \u001b[33mList\u001b[39m(\u001b[32m10\u001b[39m, \u001b[32m2\u001b[39m, \u001b[32m3\u001b[39m, \u001b[32m4\u001b[39m, \u001b[32m6\u001b[39m, \u001b[32m8\u001b[39m, \u001b[32m15\u001b[39m, \u001b[32m10\u001b[39m, \u001b[32m2\u001b[39m, \u001b[32m3\u001b[39m, \u001b[32m4\u001b[39m, \u001b[32m6\u001b[39m, \u001b[32m8\u001b[39m)"
      ]
     },
     "execution_count": 6,
     "metadata": {},
     "output_type": "execute_result"
    }
   ],
   "source": [
    "val lst4 = lst2 ++ lst3"
   ]
  },
  {
   "cell_type": "code",
   "execution_count": 7,
   "metadata": {},
   "outputs": [
    {
     "data": {
      "text/plain": [
       "defined \u001b[32mfunction\u001b[39m \u001b[36mdoubleEveryElement\u001b[39m"
      ]
     },
     "execution_count": 7,
     "metadata": {},
     "output_type": "execute_result"
    }
   ],
   "source": [
    "def doubleEveryElement(lst: List[Int]): List[Int] = lst.map( _ * 2)"
   ]
  },
  {
   "cell_type": "code",
   "execution_count": 8,
   "metadata": {},
   "outputs": [
    {
     "data": {
      "text/plain": [
       "\u001b[36mres7\u001b[39m: \u001b[32mList\u001b[39m[\u001b[32mInt\u001b[39m] = \u001b[33mList\u001b[39m(\u001b[32m20\u001b[39m, \u001b[32m4\u001b[39m, \u001b[32m6\u001b[39m, \u001b[32m8\u001b[39m, \u001b[32m12\u001b[39m, \u001b[32m16\u001b[39m, \u001b[32m30\u001b[39m, \u001b[32m20\u001b[39m, \u001b[32m4\u001b[39m, \u001b[32m6\u001b[39m, \u001b[32m8\u001b[39m, \u001b[32m12\u001b[39m, \u001b[32m16\u001b[39m)"
      ]
     },
     "execution_count": 8,
     "metadata": {},
     "output_type": "execute_result"
    }
   ],
   "source": [
    "doubleEveryElement(lst4)"
   ]
  },
  {
   "cell_type": "markdown",
   "metadata": {},
   "source": [
    "## Anonymous Functions"
   ]
  },
  {
   "cell_type": "code",
   "execution_count": 9,
   "metadata": {},
   "outputs": [
    {
     "data": {
      "text/plain": [
       "defined \u001b[32mfunction\u001b[39m \u001b[36mmultiplyByTwo\u001b[39m"
      ]
     },
     "execution_count": 9,
     "metadata": {},
     "output_type": "execute_result"
    }
   ],
   "source": [
    "def multiplyByTwo(x: Int):Int = { x * 2 }"
   ]
  },
  {
   "cell_type": "code",
   "execution_count": 10,
   "metadata": {},
   "outputs": [
    {
     "data": {
      "text/plain": [
       "defined \u001b[32mfunction\u001b[39m \u001b[36mdoubleEveryElement\u001b[39m"
      ]
     },
     "execution_count": 10,
     "metadata": {},
     "output_type": "execute_result"
    }
   ],
   "source": [
    "def doubleEveryElement(lst: List[Int]): List[Int] = lst.map((x)=> x*2)"
   ]
  },
  {
   "cell_type": "code",
   "execution_count": 11,
   "metadata": {},
   "outputs": [
    {
     "data": {
      "text/plain": [
       "\u001b[36manonFun\u001b[39m: \u001b[32mInt\u001b[39m => \u001b[32mString\u001b[39m = ammonite.$sess.cmd10$Helper$$Lambda$2417/0x0000000800c6d840@b467f91"
      ]
     },
     "execution_count": 11,
     "metadata": {},
     "output_type": "execute_result"
    }
   ],
   "source": [
    "val anonFun: Int => String = (x: Int) => (x * 2).toString"
   ]
  },
  {
   "cell_type": "code",
   "execution_count": 12,
   "metadata": {},
   "outputs": [
    {
     "data": {
      "text/plain": [
       "\u001b[36mres11\u001b[39m: \u001b[32mString\u001b[39m = \u001b[32m\"hellohello\"\u001b[39m"
      ]
     },
     "execution_count": 12,
     "metadata": {},
     "output_type": "execute_result"
    }
   ],
   "source": [
    "\"hello\"*2"
   ]
  },
  {
   "cell_type": "code",
   "execution_count": 13,
   "metadata": {},
   "outputs": [
    {
     "data": {
      "text/plain": [
       "\u001b[36manonFun2\u001b[39m: \u001b[32mInt\u001b[39m => \u001b[32mInt\u001b[39m = ammonite.$sess.cmd12$Helper$$Lambda$2435/0x0000000800c77040@5017b52c"
      ]
     },
     "execution_count": 13,
     "metadata": {},
     "output_type": "execute_result"
    }
   ],
   "source": [
    "val anonFun2: Int => Int = _ + 10 // (x) => (x + 10)"
   ]
  },
  {
   "cell_type": "code",
   "execution_count": 14,
   "metadata": {},
   "outputs": [
    {
     "data": {
      "text/plain": [
       "\u001b[36maddTwoNumbers\u001b[39m: (\u001b[32mInt\u001b[39m, \u001b[32mInt\u001b[39m) => \u001b[32mInt\u001b[39m = ammonite.$sess.cmd13$Helper$$Lambda$2439/0x0000000800c82040@3a2cdd39"
      ]
     },
     "execution_count": 14,
     "metadata": {},
     "output_type": "execute_result"
    }
   ],
   "source": [
    "val addTwoNumbers = (x:Int ,y:Int) => (x+y)"
   ]
  },
  {
   "cell_type": "code",
   "execution_count": 15,
   "metadata": {},
   "outputs": [
    {
     "data": {
      "text/plain": [
       "defined \u001b[32mfunction\u001b[39m \u001b[36mveryFriendlyFunction\u001b[39m"
      ]
     },
     "execution_count": 15,
     "metadata": {},
     "output_type": "execute_result"
    }
   ],
   "source": [
    "// take every element of a list and convert it a string concatenate hello in front of it.\n",
    "// Input: List(2, 3, 4, 5, 6)\n",
    "// Output: List(\"Hello2\", \"Hello3\", \"Hello4\",...)\n",
    "\n",
    "def veryFriendlyFunction(lst:List[Int]): List[String] = {\n",
    "     lst.map( \"Hello\"+_)\n",
    "}"
   ]
  },
  {
   "cell_type": "code",
   "execution_count": 16,
   "metadata": {},
   "outputs": [
    {
     "data": {
      "text/plain": [
       "defined \u001b[32mfunction\u001b[39m \u001b[36mretainMultiplesOfFour\u001b[39m"
      ]
     },
     "execution_count": 16,
     "metadata": {},
     "output_type": "execute_result"
    }
   ],
   "source": [
    "// filter functor\n",
    "// Keep all elements that are multiples of 4\n",
    "\n",
    "def retainMultiplesOfFour(lst: List[Int]): List[Int] = {\n",
    "    lst.filter( (x: Int ) => ( x %4 == 0))\n",
    "}"
   ]
  },
  {
   "cell_type": "code",
   "execution_count": 17,
   "metadata": {},
   "outputs": [
    {
     "name": "stdout",
     "output_type": "stream",
     "text": [
      "List(10, 2, 3, 4, 6, 8, 15, 10, 2, 3, 4, 6, 8)"
     ]
    },
    {
     "data": {
      "text/plain": [
       "\u001b[36mres16_1\u001b[39m: \u001b[32mList\u001b[39m[\u001b[32mInt\u001b[39m] = \u001b[33mList\u001b[39m(\u001b[32m4\u001b[39m, \u001b[32m8\u001b[39m, \u001b[32m4\u001b[39m, \u001b[32m8\u001b[39m)"
      ]
     },
     "execution_count": 17,
     "metadata": {},
     "output_type": "execute_result"
    }
   ],
   "source": [
    "print(lst4)\n",
    "retainMultiplesOfFour(lst4)"
   ]
  },
  {
   "cell_type": "code",
   "execution_count": 18,
   "metadata": {},
   "outputs": [
    {
     "data": {
      "text/plain": [
       "defined \u001b[32mfunction\u001b[39m \u001b[36mdoIt\u001b[39m"
      ]
     },
     "execution_count": 18,
     "metadata": {},
     "output_type": "execute_result"
    }
   ],
   "source": [
    "// Take a list --> take all numbers that are multiples of 4, and divide them by 4 and return that new list\n",
    "// Input: [1, 5, 10, 8, 16, 32]\n",
    "// Output: [2, 4, 8]\n",
    "def doIt(lst: List[Int]): List[Int] = {\n",
    "    val lst2 = lst.filter( x => (x % 4 == 0))\n",
    "    lst2.map ( x => x/4)\n",
    "}\n"
   ]
  },
  {
   "cell_type": "code",
   "execution_count": 19,
   "metadata": {},
   "outputs": [
    {
     "data": {
      "text/plain": [
       "defined \u001b[32mfunction\u001b[39m \u001b[36maddAll\u001b[39m"
      ]
     },
     "execution_count": 19,
     "metadata": {},
     "output_type": "execute_result"
    }
   ],
   "source": [
    "// fold to add all elements of a list of numbers\n",
    "\n",
    "def addAll(lst: List[Int]): Int = {\n",
    "    lst.foldLeft (0) ((acc, elt) => acc + elt) // lst.foldLeft (initalAccValue)(function)\n",
    "}\n",
    "// Curried Syntax ~~> Haskell Curry fun(a,b ) fun(a)(b)"
   ]
  },
  {
   "cell_type": "code",
   "execution_count": 20,
   "metadata": {},
   "outputs": [
    {
     "data": {
      "text/plain": [
       "\u001b[36mres19\u001b[39m: \u001b[32mInt\u001b[39m = \u001b[32m5050\u001b[39m"
      ]
     },
     "execution_count": 20,
     "metadata": {},
     "output_type": "execute_result"
    }
   ],
   "source": [
    "addAll((1 to 100).toList)"
   ]
  },
  {
   "cell_type": "code",
   "execution_count": 21,
   "metadata": {},
   "outputs": [
    {
     "data": {
      "text/plain": [
       "defined \u001b[32mfunction\u001b[39m \u001b[36mmultiplyAll\u001b[39m"
      ]
     },
     "execution_count": 21,
     "metadata": {},
     "output_type": "execute_result"
    }
   ],
   "source": [
    "def multiplyAll(lst: List[Int]): Int = {\n",
    "    lst.foldLeft (1) ((acc, elt) => acc * elt) // lst.foldLeft (initalAccValue)(function)\n",
    "}"
   ]
  },
  {
   "cell_type": "code",
   "execution_count": 22,
   "metadata": {},
   "outputs": [
    {
     "data": {
      "text/plain": [
       "defined \u001b[32mfunction\u001b[39m \u001b[36mfactorial\u001b[39m"
      ]
     },
     "execution_count": 22,
     "metadata": {},
     "output_type": "execute_result"
    }
   ],
   "source": [
    "def factorial(n:Int) = multiplyAll((1 to n).toList)"
   ]
  },
  {
   "cell_type": "code",
   "execution_count": 23,
   "metadata": {},
   "outputs": [
    {
     "data": {
      "text/plain": [
       "\u001b[36mres22\u001b[39m: \u001b[32mInt\u001b[39m = \u001b[32m3628800\u001b[39m"
      ]
     },
     "execution_count": 23,
     "metadata": {},
     "output_type": "execute_result"
    }
   ],
   "source": [
    "factorial(10)"
   ]
  },
  {
   "cell_type": "code",
   "execution_count": 24,
   "metadata": {},
   "outputs": [
    {
     "data": {
      "text/plain": [
       "defined \u001b[32mfunction\u001b[39m \u001b[36mconcatWithComma\u001b[39m"
      ]
     },
     "execution_count": 24,
     "metadata": {},
     "output_type": "execute_result"
    }
   ],
   "source": [
    "// Input: List(\"Hello\", \"World\", \"Help\", \"Fold\", \"killing\")\n",
    "// Outout: \",Hello,World,Help,Fold,Killing\"\n",
    "\n",
    "def concatWithComma(lst: List[String]): String = {\n",
    "    \n",
    "    lst.foldRight (\"\") ( (elt:String, acc:String ) => acc + \",\" + elt)\n",
    "    \n",
    "}"
   ]
  },
  {
   "cell_type": "code",
   "execution_count": 25,
   "metadata": {},
   "outputs": [
    {
     "data": {
      "text/plain": [
       "\u001b[36mres24\u001b[39m: \u001b[32mString\u001b[39m = \u001b[32m\",killing,Fold,Help,World,Hello\"\u001b[39m"
      ]
     },
     "execution_count": 25,
     "metadata": {},
     "output_type": "execute_result"
    }
   ],
   "source": [
    "concatWithComma(List(\"Hello\", \"World\", \"Help\", \"Fold\", \"killing\"))"
   ]
  },
  {
   "cell_type": "markdown",
   "metadata": {},
   "source": [
    "## MY Work"
   ]
  },
  {
   "cell_type": "code",
   "execution_count": 26,
   "metadata": {},
   "outputs": [
    {
     "data": {
      "text/plain": [
       "defined \u001b[32mfunction\u001b[39m \u001b[36mconvert\u001b[39m"
      ]
     },
     "execution_count": 26,
     "metadata": {},
     "output_type": "execute_result"
    }
   ],
   "source": [
    "//def doubleEveryElement(lst: List[Int]): List[Int] = lst.map( _ * 2)\n",
    "\n",
    "def convert (lst: List[Int]): List[String] = lst.map((x) => {s\"hello$x\"})"
   ]
  },
  {
   "cell_type": "code",
   "execution_count": 27,
   "metadata": {},
   "outputs": [
    {
     "data": {
      "text/html": [
       "<div class=\"jp-RenderedText\">\n",
       "<pre><code><span style=\"color: rgb(0, 187, 187)\"><span class=\"ansi-cyan-fg\">lst1</span></span>: <span style=\"color: rgb(0, 187, 0)\"><span class=\"ansi-green-fg\">List</span></span>[<span style=\"color: rgb(0, 187, 0)\"><span class=\"ansi-green-fg\">Int</span></span>] = <span style=\"color: yellow\"><span class=\"ansi-yellow-fg\">List</span></span>(<span style=\"color: rgb(0, 187, 0)\"><span class=\"ansi-green-fg\">1</span></span>, <span style=\"color: rgb(0, 187, 0)\"><span class=\"ansi-green-fg\">2</span></span>, <span style=\"color: rgb(0, 187, 0)\"><span class=\"ansi-green-fg\">3</span></span>, <span style=\"color: rgb(0, 187, 0)\"><span class=\"ansi-green-fg\">4</span></span>, <span style=\"color: rgb(0, 187, 0)\"><span class=\"ansi-green-fg\">5</span></span>, <span style=\"color: rgb(0, 187, 0)\"><span class=\"ansi-green-fg\">16</span></span>, <span style=\"color: rgb(0, 187, 0)\"><span class=\"ansi-green-fg\">46</span></span>, <span style=\"color: rgb(0, 187, 0)\"><span class=\"ansi-green-fg\">48</span></span>, <span style=\"color: rgb(0, 187, 0)\"><span class=\"ansi-green-fg\">104</span></span>, <span style=\"color: rgb(0, 187, 0)\"><span class=\"ansi-green-fg\">258</span></span>)\n",
       "<span style=\"color: rgb(0, 187, 187)\"><span class=\"ansi-cyan-fg\">res26_1</span></span>: <span style=\"color: rgb(0, 187, 0)\"><span class=\"ansi-green-fg\">List</span></span>[<span style=\"color: rgb(0, 187, 0)\"><span class=\"ansi-green-fg\">String</span></span>] = <span style=\"color: yellow\"><span class=\"ansi-yellow-fg\">List</span></span>(\n",
       "  <span style=\"color: rgb(0, 187, 0)\"><span class=\"ansi-green-fg\">&quot;hello1&quot;</span></span>,\n",
       "  <span style=\"color: rgb(0, 187, 0)\"><span class=\"ansi-green-fg\">&quot;hello2&quot;</span></span>,\n",
       "  <span style=\"color: rgb(0, 187, 0)\"><span class=\"ansi-green-fg\">&quot;hello3&quot;</span></span>,\n",
       "  <span style=\"color: rgb(0, 187, 0)\"><span class=\"ansi-green-fg\">&quot;hello4&quot;</span></span>,\n",
       "  <span style=\"color: rgb(0, 187, 0)\"><span class=\"ansi-green-fg\">&quot;hello5&quot;</span></span>,\n",
       "  <span style=\"color: rgb(0, 187, 0)\"><span class=\"ansi-green-fg\">&quot;hello16&quot;</span></span>,\n",
       "  <span style=\"color: rgb(0, 187, 0)\"><span class=\"ansi-green-fg\">&quot;hello46&quot;</span></span>,\n",
       "  <span style=\"color: rgb(0, 187, 0)\"><span class=\"ansi-green-fg\">&quot;hello48&quot;</span></span>,\n",
       "  <span style=\"color: rgb(0, 187, 0)\"><span class=\"ansi-green-fg\">&quot;hello104&quot;</span></span>,\n",
       "  <span style=\"color: rgb(0, 187, 0)\"><span class=\"ansi-green-fg\">&quot;hello258&quot;</span></span>\n",
       ")</code></pre>\n",
       "</div>"
      ],
      "text/plain": [
       "\u001b[36mlst1\u001b[39m: \u001b[32mList\u001b[39m[\u001b[32mInt\u001b[39m] = \u001b[33mList\u001b[39m(\u001b[32m1\u001b[39m, \u001b[32m2\u001b[39m, \u001b[32m3\u001b[39m, \u001b[32m4\u001b[39m, \u001b[32m5\u001b[39m, \u001b[32m16\u001b[39m, \u001b[32m46\u001b[39m, \u001b[32m48\u001b[39m, \u001b[32m104\u001b[39m, \u001b[32m258\u001b[39m)\n",
       "\u001b[36mres26_1\u001b[39m: \u001b[32mList\u001b[39m[\u001b[32mString\u001b[39m] = \u001b[33mList\u001b[39m(\n",
       "  \u001b[32m\"hello1\"\u001b[39m,\n",
       "  \u001b[32m\"hello2\"\u001b[39m,\n",
       "  \u001b[32m\"hello3\"\u001b[39m,\n",
       "  \u001b[32m\"hello4\"\u001b[39m,\n",
       "  \u001b[32m\"hello5\"\u001b[39m,\n",
       "  \u001b[32m\"hello16\"\u001b[39m,\n",
       "  \u001b[32m\"hello46\"\u001b[39m,\n",
       "  \u001b[32m\"hello48\"\u001b[39m,\n",
       "  \u001b[32m\"hello104\"\u001b[39m,\n",
       "  \u001b[32m\"hello258\"\u001b[39m\n",
       ")"
      ]
     },
     "metadata": {},
     "output_type": "display_data"
    }
   ],
   "source": [
    "var lst1 = List(1,2,3,4,5,16,46,48,104,258)\n",
    "convert(lst1)"
   ]
  },
  {
   "cell_type": "code",
   "execution_count": 28,
   "metadata": {},
   "outputs": [
    {
     "data": {
      "text/plain": [
       "defined \u001b[32mfunction\u001b[39m \u001b[36mfiltermult4anddiv4\u001b[39m"
      ]
     },
     "execution_count": 28,
     "metadata": {},
     "output_type": "execute_result"
    }
   ],
   "source": [
    "def filtermult4anddiv4 (lst: List[Int]): List[Int] = {\n",
    "      lst.filter( (x: Int) => (x%4 == 0) ).map(x => x/4)\n",
    " }"
   ]
  },
  {
   "cell_type": "code",
   "execution_count": 29,
   "metadata": {},
   "outputs": [
    {
     "data": {
      "text/plain": [
       "\u001b[36mres28\u001b[39m: \u001b[32mList\u001b[39m[\u001b[32mInt\u001b[39m] = \u001b[33mList\u001b[39m(\u001b[32m1\u001b[39m, \u001b[32m4\u001b[39m, \u001b[32m12\u001b[39m, \u001b[32m26\u001b[39m)"
      ]
     },
     "execution_count": 29,
     "metadata": {},
     "output_type": "execute_result"
    }
   ],
   "source": [
    "filtermult4anddiv4(lst1)"
   ]
  },
  {
   "cell_type": "code",
   "execution_count": 30,
   "metadata": {},
   "outputs": [
    {
     "data": {
      "text/plain": [
       "defined \u001b[32mfunction\u001b[39m \u001b[36mreverseList\u001b[39m"
      ]
     },
     "execution_count": 30,
     "metadata": {},
     "output_type": "execute_result"
    }
   ],
   "source": [
    "//folds\n",
    "def reverseList(lst:List[Int]): List[Int] = {\n",
    "    lst.foldLeft[List[Int]] (Nil)( (acc,elt) => elt::acc )\n",
    "}"
   ]
  },
  {
   "cell_type": "code",
   "execution_count": 31,
   "metadata": {},
   "outputs": [
    {
     "data": {
      "text/plain": [
       "\u001b[36mres30\u001b[39m: \u001b[32mList\u001b[39m[\u001b[32mInt\u001b[39m] = \u001b[33mList\u001b[39m(\u001b[32m258\u001b[39m, \u001b[32m104\u001b[39m, \u001b[32m48\u001b[39m, \u001b[32m46\u001b[39m, \u001b[32m16\u001b[39m, \u001b[32m5\u001b[39m, \u001b[32m4\u001b[39m, \u001b[32m3\u001b[39m, \u001b[32m2\u001b[39m, \u001b[32m1\u001b[39m)"
      ]
     },
     "execution_count": 31,
     "metadata": {},
     "output_type": "execute_result"
    }
   ],
   "source": [
    "reverseList(lst1)"
   ]
  },
  {
   "cell_type": "code",
   "execution_count": 33,
   "metadata": {},
   "outputs": [
    {
     "data": {
      "text/plain": [
       "defined \u001b[32mfunction\u001b[39m \u001b[36mflatten\u001b[39m"
      ]
     },
     "execution_count": 33,
     "metadata": {},
     "output_type": "execute_result"
    }
   ],
   "source": [
    "// Input: List(List(1,2), List(4,5), List(-2,-3,-1),  List() )\n",
    "// Output: List(1,2,3,4,5,-2,-3,-1)\n",
    "// flatten using fold\n",
    "\n",
    "//1. What type of accumulator should we keep: List[Int]\n",
    "//2. What is initial alue of this accumulator: Nil\n",
    "//3. What does the function for fold need to do? ++ or concatinate\n",
    "\n",
    "// def flatten(inp:List[List[Int]]): List[Int] = {\n",
    "//     inp.foldLeft[List[Int]] (Nil) ((acc, elt) => (acc ++ elt))\n",
    "// }\n",
    "\n",
    "//same\n",
    "\n",
    "def flatten(inp:List[List[Int]]): List[Int] = {\n",
    "    inp.foldLeft[List[Int]] (Nil) (_ ++ _)\n",
    "}"
   ]
  },
  {
   "cell_type": "code",
   "execution_count": 36,
   "metadata": {},
   "outputs": [
    {
     "data": {
      "text/plain": [
       "\u001b[36mres35\u001b[39m: \u001b[32mList\u001b[39m[\u001b[32mInt\u001b[39m] = \u001b[33mList\u001b[39m(\u001b[32m1\u001b[39m, \u001b[32m2\u001b[39m, \u001b[32m4\u001b[39m, \u001b[32m5\u001b[39m, \u001b[32m-2\u001b[39m, \u001b[32m-3\u001b[39m, \u001b[32m-1\u001b[39m)"
      ]
     },
     "execution_count": 36,
     "metadata": {},
     "output_type": "execute_result"
    }
   ],
   "source": [
    "flatten(List(List(1,2), List(4,5), List(-2,-3,-1),  List() ))"
   ]
  },
  {
   "cell_type": "code",
   "execution_count": 1,
   "metadata": {},
   "outputs": [
    {
     "data": {
      "text/plain": [
       "defined \u001b[32mfunction\u001b[39m \u001b[36mindexList\u001b[39m"
      ]
     },
     "execution_count": 1,
     "metadata": {},
     "output_type": "execute_result"
    }
   ],
   "source": [
    "// Index a list out.\n",
    "// List(1,5,6,7,8,9,11)\n",
    "// List ((1,1), (2,5), (3,6), (4,7), (5,8), (6,9), (7,11))\n",
    "\n",
    "//1. What type of accumulator should we keep: (Int, List[(Int, Int)])\n",
    "//2. What is initial alue of this accumulator: (1, Nil) \n",
    "//3. What does the function for fold need to do? //increment the counter by 1, add an element with index to the end of the result list\n",
    "def indexList(lst: List[Int]): List[(Int,Int)] = {\n",
    "   val (finalPos, finalList) = lst.foldLeft[(Int, List[(Int, Int)])] ((0,Nil)) ((acc, elt) => acc match {\n",
    "        case (index, resultList) => {\n",
    "            (index +1, resultList++List((index,elt)))\n",
    "        }\n",
    "    })\n",
    "     finalList\n",
    "    \n",
    "}"
   ]
  },
  {
   "cell_type": "code",
   "execution_count": 2,
   "metadata": {},
   "outputs": [
    {
     "data": {
      "text/plain": [
       "\u001b[36mres1\u001b[39m: \u001b[32mList\u001b[39m[(\u001b[32mInt\u001b[39m, \u001b[32mInt\u001b[39m)] = \u001b[33mList\u001b[39m(\n",
       "  (\u001b[32m0\u001b[39m, \u001b[32m1\u001b[39m),\n",
       "  (\u001b[32m1\u001b[39m, \u001b[32m5\u001b[39m),\n",
       "  (\u001b[32m2\u001b[39m, \u001b[32m6\u001b[39m),\n",
       "  (\u001b[32m3\u001b[39m, \u001b[32m7\u001b[39m),\n",
       "  (\u001b[32m4\u001b[39m, \u001b[32m8\u001b[39m),\n",
       "  (\u001b[32m5\u001b[39m, \u001b[32m9\u001b[39m),\n",
       "  (\u001b[32m6\u001b[39m, \u001b[32m11\u001b[39m)\n",
       ")"
      ]
     },
     "execution_count": 2,
     "metadata": {},
     "output_type": "execute_result"
    }
   ],
   "source": [
    "indexList(List(1,5,6,7,8,9,11))"
   ]
  },
  {
   "cell_type": "code",
   "execution_count": 39,
   "metadata": {},
   "outputs": [
    {
     "data": {
      "text/plain": [
       "defined \u001b[32mfunction\u001b[39m \u001b[36mindexListWzip\u001b[39m"
      ]
     },
     "execution_count": 39,
     "metadata": {},
     "output_type": "execute_result"
    }
   ],
   "source": [
    "def indexListWzip(lst: List[Int]): List[(Int,Int)] = {\n",
    "    val lst2 = (1 to lst.length).toList\n",
    "    lst2.zip(lst)\n",
    "}"
   ]
  },
  {
   "cell_type": "code",
   "execution_count": 42,
   "metadata": {},
   "outputs": [
    {
     "data": {
      "text/plain": [
       "\u001b[36mlst3\u001b[39m: \u001b[32mList\u001b[39m[\u001b[32mInt\u001b[39m] = \u001b[33mList\u001b[39m(\n",
       "  \u001b[32m5\u001b[39m,\n",
       "  \u001b[32m6\u001b[39m,\n",
       "  \u001b[32m7\u001b[39m,\n",
       "  \u001b[32m8\u001b[39m,\n",
       "  \u001b[32m9\u001b[39m,\n",
       "  \u001b[32m10\u001b[39m,\n",
       "  \u001b[32m11\u001b[39m,\n",
       "  \u001b[32m12\u001b[39m,\n",
       "  \u001b[32m13\u001b[39m,\n",
       "  \u001b[32m14\u001b[39m,\n",
       "  \u001b[32m15\u001b[39m,\n",
       "  \u001b[32m16\u001b[39m,\n",
       "  \u001b[32m17\u001b[39m,\n",
       "  \u001b[32m18\u001b[39m,\n",
       "  \u001b[32m19\u001b[39m,\n",
       "  \u001b[32m20\u001b[39m\n",
       ")\n",
       "\u001b[36mres41_1\u001b[39m: \u001b[32mList\u001b[39m[(\u001b[32mInt\u001b[39m, \u001b[32mInt\u001b[39m)] = \u001b[33mList\u001b[39m(\n",
       "  (\u001b[32m1\u001b[39m, \u001b[32m5\u001b[39m),\n",
       "  (\u001b[32m2\u001b[39m, \u001b[32m6\u001b[39m),\n",
       "  (\u001b[32m3\u001b[39m, \u001b[32m7\u001b[39m),\n",
       "  (\u001b[32m4\u001b[39m, \u001b[32m8\u001b[39m),\n",
       "  (\u001b[32m5\u001b[39m, \u001b[32m9\u001b[39m),\n",
       "  (\u001b[32m6\u001b[39m, \u001b[32m10\u001b[39m),\n",
       "  (\u001b[32m7\u001b[39m, \u001b[32m11\u001b[39m),\n",
       "  (\u001b[32m8\u001b[39m, \u001b[32m12\u001b[39m),\n",
       "  (\u001b[32m9\u001b[39m, \u001b[32m13\u001b[39m),\n",
       "  (\u001b[32m10\u001b[39m, \u001b[32m14\u001b[39m),\n",
       "  (\u001b[32m11\u001b[39m, \u001b[32m15\u001b[39m),\n",
       "  (\u001b[32m12\u001b[39m, \u001b[32m16\u001b[39m),\n",
       "  (\u001b[32m13\u001b[39m, \u001b[32m17\u001b[39m),\n",
       "  (\u001b[32m14\u001b[39m, \u001b[32m18\u001b[39m),\n",
       "  (\u001b[32m15\u001b[39m, \u001b[32m19\u001b[39m),\n",
       "  (\u001b[32m16\u001b[39m, \u001b[32m20\u001b[39m)\n",
       ")"
      ]
     },
     "execution_count": 42,
     "metadata": {},
     "output_type": "execute_result"
    }
   ],
   "source": [
    "val lst3 = (5 to 20).toList\n",
    "indexListWzip(lst3)"
   ]
  },
  {
   "cell_type": "markdown",
   "metadata": {},
   "source": [
    "# Lecture Two"
   ]
  },
  {
   "cell_type": "code",
   "execution_count": null,
   "metadata": {},
   "outputs": [],
   "source": []
  }
 ],
 "metadata": {
  "kernelspec": {
   "display_name": "Scala",
   "language": "scala",
   "name": "scala"
  },
  "language_info": {
   "codemirror_mode": "text/x-scala",
   "file_extension": ".scala",
   "mimetype": "text/x-scala",
   "name": "scala",
   "nbconvert_exporter": "script",
   "version": "2.12.11"
  }
 },
 "nbformat": 4,
 "nbformat_minor": 4
}
