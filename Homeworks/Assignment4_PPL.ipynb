{
 "cells": [
  {
   "cell_type": "markdown",
   "metadata": {},
   "source": [
    "# CSCI 3155: Assignment 4\n",
    "\n",
    "Topics Covered: Operations on inductive definitions, building an interpreter, big step operational semantics and using map, foldLeft and filter functions to replace loops."
   ]
  },
  {
   "cell_type": "markdown",
   "metadata": {},
   "source": [
    "Tyler Cranmer"
   ]
  },
  {
   "cell_type": "code",
   "execution_count": 1,
   "metadata": {
    "deletable": false,
    "editable": false,
    "nbgrader": {
     "cell_type": "code",
     "checksum": "cfa2293faa8351affda37bdf63633aa0",
     "grade": false,
     "grade_id": "cell-523e63f33a38d446",
     "locked": true,
     "schema_version": 3,
     "solution": false
    }
   },
   "outputs": [
    {
     "data": {
      "text/plain": [
       "defined \u001b[32mfunction\u001b[39m \u001b[36mpassed\u001b[39m"
      ]
     },
     "execution_count": 1,
     "metadata": {},
     "output_type": "execute_result"
    }
   ],
   "source": [
    "// TEST HELPER: PLEASE run this cell first\n",
    "def passed(points: Int) {\n",
    "    require(points >=0)\n",
    "    if (points == 1) print(s\"Tests Passed (1 point)\")\n",
    "    else print(s\"Tests Passed ($points points)\") \n",
    "}"
   ]
  },
  {
   "cell_type": "markdown",
   "metadata": {
    "deletable": false,
    "editable": false,
    "nbgrader": {
     "cell_type": "markdown",
     "checksum": "a542d3ae63e7a0081383673b67f6713c",
     "grade": false,
     "grade_id": "cell-86df80222a5e29f3",
     "locked": true,
     "schema_version": 3,
     "solution": false
    }
   },
   "source": [
    "## Problem 1: Manipulating ASTs, Inference Rules (30 points)"
   ]
  },
  {
   "cell_type": "markdown",
   "metadata": {
    "deletable": false,
    "editable": false,
    "nbgrader": {
     "cell_type": "markdown",
     "checksum": "a44e45ed35b38ceed5884f1ec993b4dc",
     "grade": false,
     "grade_id": "cell-7b3432cb0c0460ce",
     "locked": true,
     "schema_version": 3,
     "solution": false
    }
   },
   "source": [
    "### 1A: Derivatives of Expressions (20 points)\n",
    "\n",
    "We have defined a grammar for arithmetic expressions in our class notes. For this problem, you will be writing an _automatic differentiation_ method that, given an expression `e` which involves just a single identifier `x` (no need to check this fact), will return an expression for `de/dx`, the derivative of `e` with respect to `x`.\n",
    "\n",
    "Eg., `e = Sine(Mult(Identifier(\"x\"), Const(2.0)))` should return `Mult(Const(2.0), Cosine(  Mult(Identifier(\"x\"), Const(2.0)))`.  In plain math, $\\frac{d \\sin(2x)}{dx} = 2 \\cos( 2x) $\n",
    "\n",
    "We will write down the inference rules for derivative, as follows.\n",
    "\n",
    "A rule for constants ($\\frac{dc}{dx} = 0, c \\in \\mathbb{R}$)\n",
    "\n",
    "$\\begin{array}{c}\n",
    "\\\\\n",
    "\\hline \n",
    "\\text{derivative}( \\texttt{Const(f)} , x) = \\texttt{Const(0.0)} \\\\\n",
    "\\end{array} \\mathbf{(Constant)}$      \n",
    "\n",
    "A rule for identifiers $\\frac{dx}{dx} = 1, \\frac{dy}{dx} = 0$ for $y \\not= x$.\n",
    "\n",
    "$\\begin{array}{c}\n",
    "\\\\\n",
    "\\hline \n",
    "\\text{derivative}( \\texttt{Ident(s)} , x) = \\left\\{ \\begin{array}{ll} \\texttt{Const(1.0)} & x == s \\\\\n",
    "\\texttt{Const(0.0)} & \\text{otherwise} \\end{array} \\right.\\\\\n",
    "\\end{array} \\mathbf{(Identifier)}  \\;\\;\\;\n",
    "$\n",
    "\n",
    "A rule for plus $\\frac{d}{dx} (e_1 + e_2) = \\frac{de_1}{dx} + \\frac{de_2}{dx}$.\n",
    "\n",
    "$ \\begin{array}{c}\n",
    "\\text{derivative}(\\texttt{e1}, x) = \\texttt{f1},\\;\\;\\text{derivative}(\\texttt{e2}, x) = \\texttt{f2}\\\\\n",
    "\\hline\n",
    "\\text{derivative}(\\texttt{Plus(e1, e2)}, x) = \\texttt{Plus(f1, f2)} \\\\\n",
    "\\end{array} \\mathbf{(Plus)} $\n",
    "\n",
    "A rule for multiplication: $\\frac{d}{dx} (e_1 e_2) = e_2 \\frac{de_1}{dx} + e_1 \\frac{de_2}{dx}$.\n",
    "\n",
    "$ \\begin{array}{c}\n",
    "\\text{derivative}(\\texttt{e1}, x) = \\texttt{f1},\\;\\;\\text{derivative}(\\texttt{e2}, x) = \\texttt{f2}\\\\\n",
    "\\hline\n",
    "\\text{derivative}(\\texttt{Mult(e1, e2)}, x) = \\texttt{Plus(Mult(f1, e2), Mult(f2, e1))} \\\\\n",
    "\\end{array} \\mathbf{(Mult)} $\n",
    "\n",
    "A rule for division $\\frac{d}{dx} \\left(\\frac{e_1}{e_2}\\right) = \\frac{\\frac{de_1}{dx}}{e_2} - \\frac{e_1 \\frac{d e_2}{dx}}{e_2^2}$\n",
    "\n",
    "$ \\begin{array}{c}\n",
    "\\text{derivative}(\\texttt{e1}, x) = \\texttt{f1},\\;\\;\\text{derivative}(\\texttt{e2}, x) = \\texttt{f2}\\\\\n",
    "\\hline\n",
    "\\text{derivative}(\\texttt{Div(e1, e2)}, x) = \\texttt{Minus(Div(f1, e2), Div(Mult(e1, f2), Mult(e2, e2)))} \\\\\n",
    "\\end{array} \\mathbf{(Div)} $\n",
    "\n",
    "A rule for exponentiation $\\frac{d}{dx} \\left(e^{e_1}\\right) = e^{e_1} \\frac{de_1}{dx}$\n",
    "\n",
    "$ \\begin{array}{c}\n",
    "\\text{derivative}(\\texttt{e1}, x) = \\texttt{f1}\\\\\n",
    "\\hline\n",
    "\\text{derivative}(\\texttt{Exp(e1)}, x) = \\texttt{Mult(Exp(e1), f1)} \\\\\n",
    "\\end{array} \\mathbf{(Exp)} $\n",
    "\n",
    "The rules for $\\mathbf{Minus}$, $\\mathbf{Sine}$, and $\\mathbf{Cosine}$ are left for you to write.\n",
    "You do not need to write your solution for these rules in this notebook, __but__, you do need to give them in code below.\n",
    "(Don't forget about the chain rule!)"
   ]
  },
  {
   "cell_type": "markdown",
   "metadata": {},
   "source": [
    "A rule for minus $\\frac{d}{dx} (e_1 - e_2) = \\frac{de_1}{dx} - \\frac{de_2}{dx}$.\n",
    "\n",
    "$ \\begin{array}{c}\n",
    "\\text{derivative}(\\texttt{e1}, x) = \\texttt{f1},\\;\\;\\text{derivative}(\\texttt{e2}, x) = \\texttt{f2}\\\\\n",
    "\\hline\n",
    "\\text{derivative}(\\texttt{Minus(e1, e2)}, x) = \\texttt{Minus(f1, f2)} \\\\\n",
    "\\end{array} \\mathbf{(Minus)} $\n",
    "\n"
   ]
  },
  {
   "cell_type": "code",
   "execution_count": 2,
   "metadata": {
    "deletable": false,
    "editable": false,
    "nbgrader": {
     "cell_type": "code",
     "checksum": "02c64445eae9901295238649bbb28e54",
     "grade": false,
     "grade_id": "cell-5a6ded9a6f746cee",
     "locked": true,
     "schema_version": 3,
     "solution": false
    }
   },
   "outputs": [
    {
     "data": {
      "text/plain": [
       "defined \u001b[32mtrait\u001b[39m \u001b[36mExpr\u001b[39m\n",
       "defined \u001b[32mclass\u001b[39m \u001b[36mConst\u001b[39m\n",
       "defined \u001b[32mclass\u001b[39m \u001b[36mIdent\u001b[39m\n",
       "defined \u001b[32mclass\u001b[39m \u001b[36mPlus\u001b[39m\n",
       "defined \u001b[32mclass\u001b[39m \u001b[36mMinus\u001b[39m\n",
       "defined \u001b[32mclass\u001b[39m \u001b[36mMult\u001b[39m\n",
       "defined \u001b[32mclass\u001b[39m \u001b[36mDiv\u001b[39m\n",
       "defined \u001b[32mclass\u001b[39m \u001b[36mSine\u001b[39m\n",
       "defined \u001b[32mclass\u001b[39m \u001b[36mCosine\u001b[39m\n",
       "defined \u001b[32mclass\u001b[39m \u001b[36mExp\u001b[39m"
      ]
     },
     "execution_count": 2,
     "metadata": {},
     "output_type": "execute_result"
    }
   ],
   "source": [
    "sealed trait Expr\n",
    "case class Const(f: Double) extends Expr\n",
    "case class Ident(s: String) extends Expr\n",
    "case class Plus(e1: Expr, e2: Expr) extends Expr\n",
    "case class Minus(e1: Expr, e2: Expr) extends Expr\n",
    "case class Mult(e1: Expr, e2: Expr) extends Expr\n",
    "case class Div(e1: Expr, e2: Expr) extends Expr\n",
    "case class Sine(e: Expr) extends Expr\n",
    "case class Cosine(e: Expr) extends Expr\n",
    "case class Exp(e: Expr) extends Expr\n",
    "// We will skip over Log(e: Expr)"
   ]
  },
  {
   "cell_type": "markdown",
   "metadata": {
    "deletable": false,
    "editable": false,
    "nbgrader": {
     "cell_type": "markdown",
     "checksum": "3ef175a900ea13a88766e4a65bdf8944",
     "grade": false,
     "grade_id": "cell-3856b2383d61965d",
     "locked": true,
     "schema_version": 3,
     "solution": false
    }
   },
   "source": [
    "Write a function `derivativeExpr` that calculates the derivative of an expression\n",
    "`e` w.r.t a given identifier as a string `x`."
   ]
  },
  {
   "cell_type": "code",
   "execution_count": 3,
   "metadata": {
    "deletable": false,
    "nbgrader": {
     "cell_type": "code",
     "checksum": "60e80f5b6c07a516ee23b7b38ea3d495",
     "grade": false,
     "grade_id": "2a-answer",
     "locked": false,
     "schema_version": 3,
     "solution": true
    }
   },
   "outputs": [
    {
     "data": {
      "text/plain": [
       "defined \u001b[32mfunction\u001b[39m \u001b[36mderivativeExpr\u001b[39m"
      ]
     },
     "execution_count": 3,
     "metadata": {},
     "output_type": "execute_result"
    }
   ],
   "source": [
    "def derivativeExpr(e: Expr, x: String): Expr = \n",
    "    e match {\n",
    "        case Const(f) => Const(0.0)\n",
    "        case Ident(s) => if (x == s) {Const(1.0)} else {Const(0.0)}\n",
    "        case Plus(e1, e2) => Plus(derivativeExpr(e1,x),derivativeExpr(e2,x)) \n",
    "        case Minus(e1,e2) => Minus(derivativeExpr(e1,x),derivativeExpr(e2,x)) \n",
    "        case Mult(e1,e2) => Plus(Mult(derivativeExpr(e1,x),e2), Mult(derivativeExpr(e2,x),e1))\n",
    "        case Div(e1,e2) => Minus(Div(derivativeExpr(e1,x),e2),Div(Mult(e1,derivativeExpr(e2,x)), Mult(e2,e2)))\n",
    "        case Sine(e1) => Cosine(e1)\n",
    "        case Cosine(e1) => Minus(Const(0),Sine(e1))\n",
    "        case Exp(e1) => Mult(Exp(e1),derivativeExpr(e1,x))\n",
    "        case _ => ???\n",
    "    }"
   ]
  },
  {
   "cell_type": "code",
   "execution_count": 4,
   "metadata": {
    "deletable": false,
    "editable": false,
    "nbgrader": {
     "cell_type": "code",
     "checksum": "46c611ed1e5f251d95a794466fc929eb",
     "grade": false,
     "grade_id": "cell-5ebe5c717def6816",
     "locked": true,
     "schema_version": 3,
     "solution": false
    }
   },
   "outputs": [
    {
     "data": {
      "text/plain": [
       "defined \u001b[32mfunction\u001b[39m \u001b[36mevalExpr\u001b[39m\n",
       "defined \u001b[32mfunction\u001b[39m \u001b[36mtestExpressions\u001b[39m\n",
       "\u001b[36mallVals\u001b[39m: \u001b[32mList\u001b[39m[\u001b[32mDouble\u001b[39m] = \u001b[33mList\u001b[39m(\n",
       "  \u001b[32m-5.0\u001b[39m,\n",
       "  \u001b[32m-4.5\u001b[39m,\n",
       "  \u001b[32m-4.0\u001b[39m,\n",
       "  \u001b[32m-3.5\u001b[39m,\n",
       "  \u001b[32m-3.0\u001b[39m,\n",
       "  \u001b[32m-2.5\u001b[39m,\n",
       "  \u001b[32m-1.9\u001b[39m,\n",
       "  \u001b[32m-1.4\u001b[39m,\n",
       "  \u001b[32m-1.0\u001b[39m,\n",
       "  \u001b[32m-0.5\u001b[39m,\n",
       "  \u001b[32m0.1\u001b[39m,\n",
       "  \u001b[32m0.5\u001b[39m,\n",
       "  \u001b[32m1.0\u001b[39m,\n",
       "  \u001b[32m1.5\u001b[39m,\n",
       "  \u001b[32m2.0\u001b[39m,\n",
       "  \u001b[32m2.5\u001b[39m,\n",
       "  \u001b[32m3.0\u001b[39m,\n",
       "  \u001b[32m3.5\u001b[39m,\n",
       "  \u001b[32m4.0\u001b[39m,\n",
       "  \u001b[32m4.5\u001b[39m,\n",
       "  \u001b[32m5.0\u001b[39m\n",
       ")"
      ]
     },
     "execution_count": 4,
     "metadata": {},
     "output_type": "execute_result"
    }
   ],
   "source": [
    "// TEST HELPERS\n",
    "def evalExpr (e: Expr, env: Map[String, Double]): Double = e match {\n",
    "    case Const (f) => f\n",
    "    case Ident (str) => { if (env.contains(str)){\n",
    "                                env(str)\n",
    "                            } else {\n",
    "        throw new IllegalArgumentException(s\"Environment does not contain mapping for $str\")\n",
    "    }\n",
    "                        }\n",
    "    case Plus(e1, e2) => {\n",
    "        (evalExpr(e1, env)) + (evalExpr(e2, env))\n",
    "    }\n",
    "    \n",
    "    case Minus(e1, e2) => {\n",
    "        (evalExpr(e1, env)) - (evalExpr(e2, env))\n",
    "    }\n",
    "    \n",
    "    case Mult(e1, e2) => {\n",
    "        (evalExpr(e1, env)) * (evalExpr(e2, env))\n",
    "    }\n",
    "    \n",
    "    case Div(e1, e2) => {\n",
    "        val v2 = evalExpr(e2, env)\n",
    "        if (math.abs(v2) > 1E-09){\n",
    "            (evalExpr(e1, env)) / (v2)\n",
    "        } else {\n",
    "            throw new IllegalArgumentException(\"Division by Zero Error -bailing out\")\n",
    "        }\n",
    "    }\n",
    "    \n",
    "    case Exp(e) => math.exp( evalExpr(e, env))\n",
    "    \n",
    "    case Sine(e) => math.sin( evalExpr(e, env))\n",
    "    \n",
    "    case Cosine(e) => math.cos(evalExpr(e, env))\n",
    "}\n",
    "\n",
    "def testExpressions(exp: Expr, deriv_expected: Expr, testVals: List[Double]): Boolean = {\n",
    "    val tol: Double = 1E-06\n",
    "    val deriv_act = derivativeExpr(exp, \"x\")\n",
    "    testVals forall { \n",
    "            x => {\n",
    "              val res = math.abs( evalExpr(deriv_act, Map(\"x\"-> x)) - evalExpr(deriv_expected, Map(\"x\" -> x)) ) <= tol\n",
    "              if (!res) { println(s\"Failed at $x\")}\n",
    "              res\n",
    "            }\n",
    "    }\n",
    "}\n",
    "\n",
    "val allVals = List(-5.0, -4.5, -4.0, -3.5, -3.0, -2.5, -1.9, -1.4, -1.0, -0.5, 0.1, 0.5, 1.0, 1.5, 2.0, 2.5, 3.0, 3.5, 4.0, 4.5, 5.0)"
   ]
  },
  {
   "cell_type": "code",
   "execution_count": 5,
   "metadata": {},
   "outputs": [
    {
     "name": "stdout",
     "output_type": "stream",
     "text": [
      "6.0-0.9589242746631385"
     ]
    },
    {
     "data": {
      "text/plain": [
       "\u001b[36me\u001b[39m: \u001b[32mPlus\u001b[39m = \u001b[33mPlus\u001b[39m(\u001b[33mIdent\u001b[39m(\u001b[32m\"x\"\u001b[39m), \u001b[33mConst\u001b[39m(\u001b[32m2.0\u001b[39m))\n",
       "\u001b[36mp\u001b[39m: \u001b[32mSine\u001b[39m = \u001b[33mSine\u001b[39m(\u001b[33mIdent\u001b[39m(\u001b[32m\"x\"\u001b[39m))"
      ]
     },
     "execution_count": 5,
     "metadata": {},
     "output_type": "execute_result"
    }
   ],
   "source": [
    "val e = Plus(Ident(\"x\"), Const(2.0)) // x + 2\n",
    "print(evalExpr(e,Map(\"x\" -> 4)))\n",
    "val p = Sine(Ident(\"x\"))\n",
    "print(evalExpr(p,Map(\"x\" -> 5)))"
   ]
  },
  {
   "cell_type": "code",
   "execution_count": 6,
   "metadata": {
    "deletable": false,
    "editable": false,
    "nbgrader": {
     "cell_type": "code",
     "checksum": "6bfb7224e67b1f937b78d6bee99f4756",
     "grade": true,
     "grade_id": "2a-test-ident_plus_const",
     "locked": true,
     "points": 5,
     "schema_version": 3,
     "solution": false
    }
   },
   "outputs": [
    {
     "name": "stdout",
     "output_type": "stream",
     "text": [
      "Tests Passed (5 points)"
     ]
    },
    {
     "data": {
      "text/plain": [
       "\u001b[36me1\u001b[39m: \u001b[32mPlus\u001b[39m = \u001b[33mPlus\u001b[39m(\u001b[33mIdent\u001b[39m(\u001b[32m\"x\"\u001b[39m), \u001b[33mConst\u001b[39m(\u001b[32m2.0\u001b[39m))"
      ]
     },
     "execution_count": 6,
     "metadata": {},
     "output_type": "execute_result"
    }
   ],
   "source": [
    "// BEGIN TEST\n",
    "val e1 = Plus(Ident(\"x\"), Const(2.0))\n",
    "assert(testExpressions(e1, Const(1.0), allVals ), s\"Test 1 Failed -- Input: $e1 \")\n",
    "\n",
    "passed(5)\n",
    "// END TEST"
   ]
  },
  {
   "cell_type": "code",
   "execution_count": 7,
   "metadata": {
    "deletable": false,
    "editable": false,
    "nbgrader": {
     "cell_type": "code",
     "checksum": "c7d15a5921677f53133c65250e244a2e",
     "grade": true,
     "grade_id": "2a-test-minus_trig",
     "locked": true,
     "points": 5,
     "schema_version": 3,
     "solution": false
    }
   },
   "outputs": [
    {
     "name": "stdout",
     "output_type": "stream",
     "text": [
      "Tests Passed (5 points)"
     ]
    },
    {
     "data": {
      "text/plain": [
       "\u001b[36me2\u001b[39m: \u001b[32mPlus\u001b[39m = \u001b[33mPlus\u001b[39m(\u001b[33mCosine\u001b[39m(\u001b[33mIdent\u001b[39m(\u001b[32m\"x\"\u001b[39m)), \u001b[33mSine\u001b[39m(\u001b[33mIdent\u001b[39m(\u001b[32m\"x\"\u001b[39m)))\n",
       "\u001b[36med2\u001b[39m: \u001b[32mMinus\u001b[39m = \u001b[33mMinus\u001b[39m(\u001b[33mCosine\u001b[39m(\u001b[33mIdent\u001b[39m(\u001b[32m\"x\"\u001b[39m)), \u001b[33mSine\u001b[39m(\u001b[33mIdent\u001b[39m(\u001b[32m\"x\"\u001b[39m)))"
      ]
     },
     "execution_count": 7,
     "metadata": {},
     "output_type": "execute_result"
    }
   ],
   "source": [
    "// BEGIN TEST\n",
    "val e2 = Plus(Cosine(Ident(\"x\")), Sine(Ident(\"x\")))\n",
    "val ed2 = Minus(Cosine(Ident(\"x\")), Sine(Ident(\"x\")))\n",
    "assert(testExpressions(e2, ed2, allVals), s\"Test 2 Failed: Input is $e2\")\n",
    "\n",
    "passed(5)\n",
    "// END TEST"
   ]
  },
  {
   "cell_type": "code",
   "execution_count": 8,
   "metadata": {
    "deletable": false,
    "editable": false,
    "nbgrader": {
     "cell_type": "code",
     "checksum": "4854135dd0cb9b45c5bb03a1c30241f2",
     "grade": true,
     "grade_id": "2a-test-exp_mult",
     "locked": true,
     "points": 5,
     "schema_version": 3,
     "solution": false
    }
   },
   "outputs": [
    {
     "name": "stdout",
     "output_type": "stream",
     "text": [
      "Tests Passed (5 points)"
     ]
    },
    {
     "data": {
      "text/plain": [
       "\u001b[36mx\u001b[39m: \u001b[32mIdent\u001b[39m = \u001b[33mIdent\u001b[39m(\u001b[32m\"x\"\u001b[39m)\n",
       "\u001b[36me3\u001b[39m: \u001b[32mExp\u001b[39m = \u001b[33mExp\u001b[39m(\u001b[33mMult\u001b[39m(\u001b[33mIdent\u001b[39m(\u001b[32m\"x\"\u001b[39m), \u001b[33mIdent\u001b[39m(\u001b[32m\"x\"\u001b[39m)))\n",
       "\u001b[36med3\u001b[39m: \u001b[32mMult\u001b[39m = \u001b[33mMult\u001b[39m(\n",
       "  \u001b[33mMult\u001b[39m(\u001b[33mConst\u001b[39m(\u001b[32m2.0\u001b[39m), \u001b[33mIdent\u001b[39m(\u001b[32m\"x\"\u001b[39m)),\n",
       "  \u001b[33mExp\u001b[39m(\u001b[33mMult\u001b[39m(\u001b[33mIdent\u001b[39m(\u001b[32m\"x\"\u001b[39m), \u001b[33mIdent\u001b[39m(\u001b[32m\"x\"\u001b[39m)))\n",
       ")"
      ]
     },
     "execution_count": 8,
     "metadata": {},
     "output_type": "execute_result"
    }
   ],
   "source": [
    "// BEGIN TEST\n",
    "val x = Ident(\"x\")\n",
    "val e3 = Exp(Mult(x, x))\n",
    "val ed3 = Mult(Mult(Const(2.0), x), e3)\n",
    "assert(testExpressions(e3, ed3, allVals), s\"Test 3 Failed: Input is $e3\")\n",
    "\n",
    "passed(5)\n",
    "// END TEST"
   ]
  },
  {
   "cell_type": "code",
   "execution_count": 9,
   "metadata": {
    "deletable": false,
    "editable": false,
    "nbgrader": {
     "cell_type": "code",
     "checksum": "4cba74f531ce10c9a941acc29225bcd6",
     "grade": true,
     "grade_id": "cell-98105bfe539405d9",
     "locked": true,
     "points": 5,
     "schema_version": 3,
     "solution": false
    }
   },
   "outputs": [
    {
     "name": "stdout",
     "output_type": "stream",
     "text": [
      "Tests Passed (5 points)"
     ]
    },
    {
     "data": {
      "text/plain": [
       "\u001b[36me4\u001b[39m: \u001b[32mDiv\u001b[39m = \u001b[33mDiv\u001b[39m(\u001b[33mIdent\u001b[39m(\u001b[32m\"x\"\u001b[39m), \u001b[33mPlus\u001b[39m(\u001b[33mIdent\u001b[39m(\u001b[32m\"x\"\u001b[39m), \u001b[33mConst\u001b[39m(\u001b[32m2.0\u001b[39m)))\n",
       "\u001b[36med4\u001b[39m: \u001b[32mDiv\u001b[39m = \u001b[33mDiv\u001b[39m(\n",
       "  \u001b[33mConst\u001b[39m(\u001b[32m2.0\u001b[39m),\n",
       "  \u001b[33mMult\u001b[39m(\u001b[33mPlus\u001b[39m(\u001b[33mIdent\u001b[39m(\u001b[32m\"x\"\u001b[39m), \u001b[33mConst\u001b[39m(\u001b[32m2.0\u001b[39m)), \u001b[33mPlus\u001b[39m(\u001b[33mIdent\u001b[39m(\u001b[32m\"x\"\u001b[39m), \u001b[33mConst\u001b[39m(\u001b[32m2.0\u001b[39m)))\n",
       ")\n",
       "\u001b[36me5\u001b[39m: \u001b[32mSine\u001b[39m = \u001b[33mSine\u001b[39m(\n",
       "  \u001b[33mMult\u001b[39m(\n",
       "    \u001b[33mExp\u001b[39m(\u001b[33mMinus\u001b[39m(\u001b[33mCosine\u001b[39m(\u001b[33mDiv\u001b[39m(\u001b[33mIdent\u001b[39m(\u001b[32m\"x\"\u001b[39m), \u001b[33mIdent\u001b[39m(\u001b[32m\"x\"\u001b[39m))), \u001b[33mCosine\u001b[39m(\u001b[33mConst\u001b[39m(\u001b[32m1.0\u001b[39m)))),\n",
       "    \u001b[33mIdent\u001b[39m(\u001b[32m\"x\"\u001b[39m)\n",
       "  )\n",
       ")\n",
       "\u001b[36med5\u001b[39m: \u001b[32mCosine\u001b[39m = \u001b[33mCosine\u001b[39m(\u001b[33mIdent\u001b[39m(\u001b[32m\"x\"\u001b[39m))"
      ]
     },
     "execution_count": 9,
     "metadata": {},
     "output_type": "execute_result"
    }
   ],
   "source": [
    "// BEGIN TEST\n",
    "val e4 = Div(x, Plus(x, Const(2.0)))\n",
    "val ed4 = Div(Const(2.0), Mult(Plus(x, Const(2.0)), Plus(x, Const(2.0))) )\n",
    "assert(testExpressions(e4, ed4, allVals), s\"Test 4 Failed: Input is $e4\")\n",
    "\n",
    "\n",
    "val e5 = Sine(Mult(Exp(Minus( Cosine(Div(x,x)), Cosine(Const(1.0)) )), x))\n",
    "val ed5 = Cosine(x)\n",
    "assert(testExpressions(e5, ed5, allVals), s\"Test 5 Failed: Input is $e5\")\n",
    "\n",
    "passed(5)\n",
    "// END TEST"
   ]
  },
  {
   "cell_type": "markdown",
   "metadata": {
    "deletable": false,
    "editable": false,
    "nbgrader": {
     "cell_type": "markdown",
     "checksum": "fd82910cdc248d45d6ce06c20c010530",
     "grade": false,
     "grade_id": "cell-c9182e4cf28a06d9",
     "locked": true,
     "schema_version": 3,
     "solution": false
    }
   },
   "source": [
    "### 1B: Newton's Algorithm Reloaded (10 points)\n",
    "\n",
    "Let's revisit problem 5 from assignment 1. Back in assignment 1, we hard coded the\n",
    "expression and its derivative. Here, we will use our `Expr` abstract syntax to \n",
    "define expressions and use the function you wrote in 2A to compute derivatives.\n",
    "You may also use the `evalExpr` function provided below.\n",
    "\n",
    "Newton invented the Newton-Raphson method for solving an equation. \n",
    "We are going to ask you to write some code to solve equations.\n",
    "\n",
    "`solveEquation(e: Expr, x0: Double, maxIters: Int = 1000)`\n",
    "\n",
    "Assume that the input expression has involves just one variable \"x\".\n",
    "\n",
    "To solve an equation of the form\n",
    "\n",
    "$$ x^2 - 3x + 2 == 0$$\n",
    "\n",
    "with initial guess at the solution: say $$x_0 = 4.5$$,\n",
    "\n",
    "We will input `val e = Plus(Minus(Mult(Ident(\"x\"), Ident(\"x\")), Mult(Const(3.0), Ident(\"x\"))), Const(2.0))`\n",
    "into the function\n",
    "\n",
    "`solveEquation( e, 1.5, 1000)`\n",
    "\n",
    "Each time we have the $i^{th}$ guess $x_i$, we update it as\n",
    "\n",
    "$$ x_{i+1} = x_i - \\frac{f(x_i)}{f'(x_i)} $$\n",
    "\n",
    "For our equation, $f(x) = x^2 - 3x +2$ and $f'(x) = 2 x - 3$ ( $f'$ is the derivative of $f$).\n",
    "\n",
    "Thus, our update equation is \n",
    "$$ x_{i+1} = x_i - \\frac{x_i^2 - 3 x_i + 2}{2 x_i - 3}$$.\n",
    "\n",
    "We stop whenever $|f(x_i)| \\leq 10^{-8}$ : i.e, we are very close to a root of the function\n",
    "_or_ $ i \\geq \\text{maxIters}$. \n",
    "\n",
    "Gory details are here:\n",
    "http://www.math.ubc.ca/~anstee/math104/newtonmethod.pdf\n",
    "\n"
   ]
  },
  {
   "cell_type": "code",
   "execution_count": 10,
   "metadata": {
    "deletable": false,
    "editable": false,
    "nbgrader": {
     "cell_type": "code",
     "checksum": "2c472c8446053938dd46c9c003a5d6dd",
     "grade": false,
     "grade_id": "cell-818418bd7ec6d27e",
     "locked": true,
     "schema_version": 3,
     "solution": false
    }
   },
   "outputs": [
    {
     "data": {
      "text/plain": [
       "defined \u001b[32mfunction\u001b[39m \u001b[36mevalExpr\u001b[39m"
      ]
     },
     "execution_count": 10,
     "metadata": {},
     "output_type": "execute_result"
    }
   ],
   "source": [
    "def evalExpr (e: Expr, env: Map[String, Double]): Double = e match {\n",
    "    case Const (f) => f\n",
    "    case Ident (str) => { if (env.contains(str)){\n",
    "                                env(str)\n",
    "                            } else {\n",
    "        throw new IllegalArgumentException(s\"Environment does not contain mapping for $str\")\n",
    "    }\n",
    "                        }\n",
    "    case Plus(e1, e2) => {\n",
    "        (evalExpr(e1, env)) + (evalExpr(e2, env))\n",
    "    }\n",
    "    \n",
    "    case Minus(e1, e2) => {\n",
    "        (evalExpr(e1, env)) - (evalExpr(e2, env))\n",
    "    }\n",
    "    \n",
    "    case Mult(e1, e2) => {\n",
    "        (evalExpr(e1, env)) * (evalExpr(e2, env))\n",
    "    }\n",
    "    \n",
    "    case Div(e1, e2) => {\n",
    "        val v2 = evalExpr(e2, env)\n",
    "        if (math.abs(v2) > 1E-09){\n",
    "            (evalExpr(e1, env)) / (v2)\n",
    "        } else {\n",
    "            throw new IllegalArgumentException(\"Division by Zero Error -bailing out\")\n",
    "        }\n",
    "    }\n",
    "    \n",
    "    case Exp(e) => math.exp( evalExpr(e, env))\n",
    "    \n",
    "    case Sine(e) => math.sin( evalExpr(e, env))\n",
    "    \n",
    "    case Cosine(e) => math.cos(evalExpr(e, env))\n",
    "}"
   ]
  },
  {
   "cell_type": "code",
   "execution_count": 11,
   "metadata": {},
   "outputs": [
    {
     "data": {
      "text/plain": [
       "defined \u001b[32mfunction\u001b[39m \u001b[36mcalculateRoot\u001b[39m"
      ]
     },
     "execution_count": 11,
     "metadata": {},
     "output_type": "execute_result"
    }
   ],
   "source": [
    "def calculateRoot(x0: Double): Double = { \n",
    "    /* Some helpful functions for f and its derivative */\n",
    "    def f(x: Double) = { math.pow(x,2) - 3 * x + 2.0 }\n",
    "    def df(x: Double) = { 2* x - 3}\n",
    "    // Your code here: use f(x) and df(x) provided already.\n",
    "    var xi: Double = x0\n",
    "    while(f(xi).abs >= math.pow(10,-8)) {\n",
    "        xi = xi - (f(xi) / df(xi))\n",
    "    }\n",
    "    return xi\n",
    "   \n",
    "}"
   ]
  },
  {
   "cell_type": "code",
   "execution_count": 12,
   "metadata": {},
   "outputs": [
    {
     "data": {
      "text/plain": [
       "\u001b[36mres11\u001b[39m: \u001b[32mDouble\u001b[39m = \u001b[32m2.0000000000597247\u001b[39m"
      ]
     },
     "execution_count": 12,
     "metadata": {},
     "output_type": "execute_result"
    }
   ],
   "source": [
    "calculateRoot(45.0)"
   ]
  },
  {
   "cell_type": "code",
   "execution_count": 12,
   "metadata": {
    "deletable": false,
    "nbgrader": {
     "cell_type": "code",
     "checksum": "2664bf9f2592e6337bfd23b9a52a485c",
     "grade": false,
     "grade_id": "2b-answer",
     "locked": false,
     "schema_version": 3,
     "solution": true
    }
   },
   "outputs": [
    {
     "name": "stderr",
     "output_type": "stream",
     "text": [
      "cmd12.sc:5: type mismatch;\n",
      " found   : Unit\n",
      " required: Double\n",
      "        case Plus(e1,e2) => \n",
      "                         ^Compilation Failed"
     ]
    },
    {
     "ename": "",
     "evalue": "",
     "output_type": "error",
     "traceback": [
      "Compilation Failed"
     ]
    }
   ],
   "source": [
    "def solveEquation(e: Expr, x0: Double, maxIters:Int = 1000): Double  = {\n",
    "    \n",
    "}\n",
    "    "
   ]
  },
  {
   "cell_type": "code",
   "execution_count": null,
   "metadata": {
    "deletable": false,
    "editable": false,
    "nbgrader": {
     "cell_type": "code",
     "checksum": "d7cb33764a77f55983a56bcd28e3db19",
     "grade": true,
     "grade_id": "2b-test",
     "locked": true,
     "points": 10,
     "schema_version": 3,
     "solution": false
    }
   },
   "outputs": [],
   "source": [
    "// BEGIN TEST\n",
    "def checkSolution(e: Expr, v: Double): Boolean = {\n",
    "    val y = evalExpr(e, Map{\"x\" -> v}) \n",
    "    math.abs(y) <= 1e-08\n",
    "}\n",
    "\n",
    "val e1 = Plus(Minus(Mult(Ident(\"x\"), Ident(\"x\")), Mult(Const(3.0), Ident(\"x\"))), Const(2.0))\n",
    "val v1 = solveEquation(e1, 10.0, 1000)\n",
    "\n",
    "assert(checkSolution(e1, v1), s\"Test 1 failed: $e1 == 0, your code returned $v1 with f(x) = ${evalExpr(e1, Map{\"x\" -> v1}) }\")\n",
    "\n",
    "// Sine(x)  - Cos(x) - x == 0\n",
    "val x = Ident(\"x\")\n",
    "val e2 = Minus(Sine(x), Plus(Cosine(x), x))\n",
    "val v2 = solveEquation(e2, 1.4)\n",
    "assert(checkSolution(e2, v2), s\"Test 2 failed: $e2 == 0, your code returned $v2 with f(x) = ${evalExpr(e2, Map{\"x\" -> v2}) }\")\n",
    "\n",
    "// e^x - 5.0 = 0\n",
    "val e3 = Minus(Exp(x), Const(5.0))\n",
    "val v3 = solveEquation(e3, 2.0)\n",
    "assert(checkSolution(e3, v3), s\"Test 3 failed: $e3 == 0, your code returned $v3 with f(x) = ${evalExpr(e3, Map{\"x\" -> v3}) }\")\n",
    "\n",
    "// e^cos(x) + e^sin(x) - 2.0 = 0\n",
    "\n",
    "val e4 = Minus(Plus(Exp(Sine(x)), Exp(Cosine(x))), Const(2.0))\n",
    "val v4 = solveEquation(e4, 1.8)\n",
    "assert(checkSolution(e4, v4), s\"Test 3 failed: $e4 == 0, your code returned $v4 with f(x) = ${evalExpr(e4, Map{\"x\" -> v4}) }\")\n",
    "\n",
    "\n",
    "// x sin(x) -  cos(x) - 5.0\n",
    "val e5 = Minus(Mult(x, Sine(x)), Plus(Cosine(x), Const(5.0)))\n",
    "val v5 = solveEquation(e5, 1.8)\n",
    "assert(checkSolution(e5, v5), s\"Test 3 failed: $e5 == 0, your code returned $v5 with f(x) = ${evalExpr(e5, Map{\"x\" -> v5}) }\")\n",
    "\n",
    "passed(10)\n",
    "// END TEST"
   ]
  },
  {
   "cell_type": "markdown",
   "metadata": {
    "deletable": false,
    "editable": false,
    "nbgrader": {
     "cell_type": "markdown",
     "checksum": "ed07dd99de123ff0adc4e6b90d7b78d3",
     "grade": false,
     "grade_id": "cell-1c25ff5512e1304b",
     "locked": true,
     "schema_version": 3,
     "solution": false,
     "task": false
    }
   },
   "source": [
    "## Problem 2: map, filter, reduce on containers (25 points)\n",
    "\n",
    "Solve the problems using a combination of map, filter and foldLeft/foldRight opertions over lists. The use of mutables, recursion, For/While loops is forbidden for this problem."
   ]
  },
  {
   "cell_type": "markdown",
   "metadata": {
    "deletable": false,
    "editable": false,
    "nbgrader": {
     "cell_type": "markdown",
     "checksum": "452cf3557fa4a5563c739f77e5cea10b",
     "grade": false,
     "grade_id": "cell-57eb1b5c1720b797",
     "locked": true,
     "schema_version": 3,
     "solution": false
    }
   },
   "source": [
    "\n",
    "### 2A: Compute the dot-product of two lists of numbers.\n",
    "Write a function `computeDotProduct` that takes two lists `lstA` and `lstB` of double precision numbers. The lists are given to be the same size. You need to compute the dot product. \n",
    "\n",
    "$$(a_0, \\ldots, a_n) \\cdot (b_0, \\ldots, b_n) = \\sum_{j=0}^n a_j b_j $$.\n",
    "\n",
    "List API functions that you are allowed to use: `zip`,  `map`, `filter`, `foldLeft`, and `sum`. You can look the list API documentation for scala to find out more about these functions. Post/Search on piazza if you are unsure. You are __not__ allowed to use __var__, any kind of loops or recursion."
   ]
  },
  {
   "cell_type": "code",
   "execution_count": 27,
   "metadata": {
    "deletable": false,
    "nbgrader": {
     "cell_type": "code",
     "checksum": "c7bef166709ed66a200ce5167963f13f",
     "grade": false,
     "grade_id": "cell-d07d79524c90fd4e",
     "locked": false,
     "schema_version": 3,
     "solution": true,
     "task": false
    }
   },
   "outputs": [
    {
     "name": "stderr",
     "output_type": "stream",
     "text": [
      "cmd27.sc:5: overloaded method value + with alternatives:\n",
      "  (x: Int)Int <and>\n",
      "  (x: Char)Int <and>\n",
      "  (x: Short)Int <and>\n",
      "  (x: Byte)Int\n",
      " cannot be applied to ((Double, Double))\n",
      "        lstA.zip(lstB).foldLeft(0) ((_+_));\n",
      "                                      ^cmd27.sc:5: type mismatch;\n",
      " found   : Int\n",
      " required: List[Double]\n",
      "        lstA.zip(lstB).foldLeft(0) ((_+_));\n",
      "                               ^Compilation Failed"
     ]
    },
    {
     "ename": "",
     "evalue": "",
     "output_type": "error",
     "traceback": [
      "Compilation Failed"
     ]
    }
   ],
   "source": [
    "// def dotProduct(lstA: List[Double], lstB: List[Double]): Double =\n",
    "    \n",
    "//     {\n",
    "//         require(lstA.length == lstB.length)\n",
    "//         val lstC = lstA.zip(lstB)\n",
    "//         lstC.foldLeft[list(Double,Double)]\n",
    "//     }\n",
    "\n",
    "\n",
    "def dotProduct(lstA: List[Double], lstB: List[Double]): List[(Double)] =\n",
    "    \n",
    "    {\n",
    "        require(lstA.length == lstB.length)\n",
    "        lstA.zip(lstB).foldLeft(0) ((_+_));\n",
    "        \n",
    "    }\n",
    "\n",
    "//.foldLeft[list[Double]] (1) ((x,acc) => x * acc)\n",
    "\n",
    "    //val (_, finalList) = lst.foldLeft[(Int, List[(Double, Double)])] ((1, Nil)) ((x,acc) => x * acc)\n",
    "    //finalList\n"
   ]
  },
  {
   "cell_type": "code",
   "execution_count": 27,
   "metadata": {},
   "outputs": [
    {
     "data": {
      "text/plain": [
       "\u001b[36mres26_0\u001b[39m: \u001b[32mList\u001b[39m[\u001b[32mDouble\u001b[39m] = \u001b[33mList\u001b[39m(\u001b[32m1.0\u001b[39m, \u001b[32m-3.0\u001b[39m, \u001b[32m-5.0\u001b[39m)\n",
       "\u001b[36mres26_1\u001b[39m: \u001b[32mList\u001b[39m[\u001b[32mDouble\u001b[39m] = \u001b[33mList\u001b[39m(\u001b[32m4.0\u001b[39m, \u001b[32m-2.0\u001b[39m, \u001b[32m-1.0\u001b[39m)\n",
       "\u001b[36mres26_2\u001b[39m: \u001b[32mList\u001b[39m[(\u001b[32mDouble\u001b[39m, \u001b[32mDouble\u001b[39m)] = \u001b[33mList\u001b[39m((\u001b[32m1.0\u001b[39m, \u001b[32m4.0\u001b[39m), (\u001b[32m-3.0\u001b[39m, \u001b[32m-2.0\u001b[39m), (\u001b[32m-5.0\u001b[39m, \u001b[32m-1.0\u001b[39m))\n",
       "\u001b[36mres26_3\u001b[39m: \u001b[32mList\u001b[39m[(\u001b[32mDouble\u001b[39m, \u001b[32mDouble\u001b[39m)] = \u001b[33mList\u001b[39m((\u001b[32m1.1\u001b[39m, \u001b[32m3.0\u001b[39m), (\u001b[32m2.0\u001b[39m, \u001b[32m4.2\u001b[39m))"
      ]
     },
     "execution_count": 27,
     "metadata": {},
     "output_type": "execute_result"
    }
   ],
   "source": [
    "List(1.0,-3.0,-5.0)\n",
    "List(4.0,-2.0,-1.0)\n",
    "dotProduct(List(1.0,-3.0,-5.0),List(4.0,-2.0,-1.0))\n",
    "dotProduct(List(1.1,2.0), List(3.0, 4.2))"
   ]
  },
  {
   "cell_type": "code",
   "execution_count": 21,
   "metadata": {},
   "outputs": [
    {
     "data": {
      "text/plain": [
       "\u001b[36mres20\u001b[39m: \u001b[32mInt\u001b[39m = \u001b[32m120\u001b[39m"
      ]
     },
     "execution_count": 21,
     "metadata": {},
     "output_type": "execute_result"
    }
   ],
   "source": [
    "List(1,2,3,4,5).foldLeft(1)(_ * _)"
   ]
  },
  {
   "cell_type": "code",
   "execution_count": 19,
   "metadata": {
    "deletable": false,
    "editable": false,
    "nbgrader": {
     "cell_type": "code",
     "checksum": "c6af33538d5a04be01cc2e263c4b3592",
     "grade": true,
     "grade_id": "cell-054acf67575fc99c",
     "locked": true,
     "points": 5,
     "schema_version": 3,
     "solution": false
    }
   },
   "outputs": [
    {
     "name": "stderr",
     "output_type": "stream",
     "text": [
      "cmd19.sc:2: value - is not a member of List[(Double, Double)]\n",
      "val res19_1 = assert(math.abs(t1 - 11.7)<= 1E-08, \"Test 1 failed\")\n",
      "                                 ^cmd19.sc:5: value - is not a member of List[(Double, Double)]\n",
      "val res19_3 = assert(math.abs(t2 - 2.2)<= 1E-08, \"Test 2 failed\")\n",
      "                                 ^cmd19.sc:8: overloaded method value abs with alternatives:\n",
      "  (x: Double)Double <and>\n",
      "  (x: Float)Float <and>\n",
      "  (x: Long)Long <and>\n",
      "  (x: Int)Int\n",
      " cannot be applied to (List[(Double, Double)])\n",
      "val res19_5 = assert(math.abs(t3)<= 1E-08, \"Test 3 failed\")\n",
      "                          ^cmd19.sc:11: overloaded method value abs with alternatives:\n",
      "  (x: Double)Double <and>\n",
      "  (x: Float)Float <and>\n",
      "  (x: Long)Long <and>\n",
      "  (x: Int)Int\n",
      " cannot be applied to (List[(Double, Double)])\n",
      "val res19_7 = assert(math.abs(t4) <= 1E-08, \"Test 4 failed\")\n",
      "                          ^Compilation Failed"
     ]
    },
    {
     "ename": "",
     "evalue": "",
     "output_type": "error",
     "traceback": [
      "Compilation Failed"
     ]
    }
   ],
   "source": [
    "// BEGIN TEST\n",
    "\n",
    "val t1 = dotProduct(List(1.1,2.0), List(3.0, 4.2))\n",
    "assert(math.abs(t1 - 11.7)<= 1E-08, \"Test 1 failed\")\n",
    "\n",
    "val t2 = dotProduct(List(1.1), List(2.0))\n",
    "assert(math.abs(t2 - 2.2)<= 1E-08, \"Test 2 failed\")\n",
    "\n",
    "val t3 = dotProduct(List(), List())\n",
    "assert(math.abs(t3)<= 1E-08, \"Test 3 failed\")\n",
    "\n",
    "val t4 = dotProduct(List(1.5, 0.0, 2.3, -1.1, 0.0), List(0.0, 4.5, 1.1, 2.3, 5.0))\n",
    "assert(math.abs(t4) <= 1E-08, \"Test 4 failed\")\n",
    "\n",
    "passed(5)\n",
    "// END TEST"
   ]
  },
  {
   "cell_type": "markdown",
   "metadata": {
    "deletable": false,
    "editable": false,
    "nbgrader": {
     "cell_type": "markdown",
     "checksum": "03fab8bce8bbc944e0300823d8bd44c4",
     "grade": false,
     "grade_id": "cell-cce284d399573f50",
     "locked": true,
     "schema_version": 3,
     "solution": false
    }
   },
   "source": [
    "### 2B: LCM of all Denominators.\n",
    "\n",
    "You are given a list of pairs of integers that are supposed to represent fractions. You can assume that all fractions are positive and already in their lowest terms. This problem asks you to compute the LCM of the denominators.\n",
    "\n",
    "Eg., Input: `List((1,2), (3,4), (8,9), (15,24))`\n",
    "The denominators are `2, 4, 9, 24` and their LCM is `72`, which is the answer your function should return.\n",
    "\n",
    "For the empty list as input, your code must return the answer 1.\n",
    "\n",
    "You should assume that all the denominators are positive.\n",
    "\n",
    "You are allowed to use the provided `lcm` function that computes LCM of two numbers, `map`, `filter`, `foldLeft`, and `foldRight`. No __var__, no loops and no recursive calls other than the call made for LCM.\n"
   ]
  },
  {
   "cell_type": "code",
   "execution_count": 23,
   "metadata": {
    "deletable": false,
    "nbgrader": {
     "cell_type": "code",
     "checksum": "f45558b24bc92f50c9557dbdfa88f735",
     "grade": false,
     "grade_id": "cell-332c55ac9d70c435",
     "locked": false,
     "schema_version": 3,
     "solution": true
    }
   },
   "outputs": [
    {
     "data": {
      "text/plain": [
       "\u001b[32mimport \u001b[39m\u001b[36mscala.annotation._\n",
       "\n",
       "\u001b[39m\n",
       "defined \u001b[32mfunction\u001b[39m \u001b[36mlcm\u001b[39m\n",
       "defined \u001b[32mfunction\u001b[39m \u001b[36mlcmOfDenominators\u001b[39m\n",
       "\u001b[36mres22_4\u001b[39m: \u001b[32mInt\u001b[39m = \u001b[32m72\u001b[39m"
      ]
     },
     "execution_count": 23,
     "metadata": {},
     "output_type": "execute_result"
    }
   ],
   "source": [
    "import scala.annotation._\n",
    "\n",
    "@tailrec\n",
    "private def gcd(a: Int, b: Int):Int=if (b==0) a.abs else gcd(b, a%b)\n",
    "\n",
    "def lcm(a: Int, b: Int)=(a*b).abs/gcd(a,b)\n",
    "\n",
    "def lcmOfDenominators(lst: List[(Int, Int)]): Int = {\n",
    "    lst.map((x) => x._2).foldLeft(1)((acc, x) => lcm(acc,x))\n",
    "    \n",
    "}\n",
    "\n",
    "lcmOfDenominators(List((1,2), (3,4), (8,9), (15,24)))"
   ]
  },
  {
   "cell_type": "code",
   "execution_count": 24,
   "metadata": {
    "deletable": false,
    "editable": false,
    "nbgrader": {
     "cell_type": "code",
     "checksum": "c0fe18e38b28d08dfc5a9107401ec2fd",
     "grade": true,
     "grade_id": "cell-b37de6cd26982543",
     "locked": true,
     "points": 5,
     "schema_version": 3,
     "solution": false
    }
   },
   "outputs": [
    {
     "name": "stdout",
     "output_type": "stream",
     "text": [
      "Tests Passed (5 points)"
     ]
    },
    {
     "data": {
      "text/plain": [
       "\u001b[36mi1\u001b[39m: \u001b[32mInt\u001b[39m = \u001b[32m36\u001b[39m\n",
       "\u001b[36mi2\u001b[39m: \u001b[32mInt\u001b[39m = \u001b[32m1\u001b[39m\n",
       "\u001b[36mi3\u001b[39m: \u001b[32mInt\u001b[39m = \u001b[32m45\u001b[39m"
      ]
     },
     "execution_count": 24,
     "metadata": {},
     "output_type": "execute_result"
    }
   ],
   "source": [
    "// BEGIN TEST\n",
    "val i1 = lcmOfDenominators(List((1,2), (3,4), (5,6),(8,9), (11,12)))\n",
    "assert(i1 == 36, s\"Test 1 failed -- expected answer is 36, you got $i1\")\n",
    "val i2 = lcmOfDenominators(List())\n",
    "assert(i2 == 1, s\"Test 2 failed -- empty list must trivially have lcm of 1\")\n",
    "val i3 = lcmOfDenominators(List((4,5),(5,9),(18,15)))\n",
    "assert(i3 == 45, s\"Test 2 failed -- your answer is $i3\")\n",
    "passed(5)\n",
    "// END TEST"
   ]
  },
  {
   "cell_type": "markdown",
   "metadata": {
    "deletable": false,
    "editable": false,
    "nbgrader": {
     "cell_type": "markdown",
     "checksum": "7e76c6a9c73cd143769d2ff90c1a589b",
     "grade": false,
     "grade_id": "cell-1de14d7f940a930f",
     "locked": true,
     "schema_version": 3,
     "solution": false
    }
   },
   "source": [
    "### 2C (7 points): Convert a list into an indexed list.\n",
    "\n",
    "Write a function to convert a list of strings into an indexed list of strings.  Indices start at 0.\n",
    "As an example:\n",
    "\n",
    "__Input__ List(\"hello\", \"world\", \"my\", \"cat\", \"is\", \"grumpy\", \"today\")\n",
    "\n",
    "__Output__  List( (0, \"hello\"), (1, \"world\"), (2, \"my\"), (3,\"cat\"), (4, \"is\"), (5, \"grumpy\"), (6,\"today\") )\n",
    "\n",
    "\n",
    "You are allowed to use just the basic list operatios such as cons of an element to a list (::) and concatenation of two lists (++, or ::: operators). List API functions `reverse`, `map`, `filter`, `foldLeft` and `foldRight` but not other list API functions. Do not use __var__, __loops__ or __recursion__."
   ]
  },
  {
   "cell_type": "code",
   "execution_count": 52,
   "metadata": {
    "deletable": false,
    "nbgrader": {
     "cell_type": "code",
     "checksum": "49c28a04877f0284f04a3f02b4ab0fa3",
     "grade": false,
     "grade_id": "cell-0c984f492b25b8b4",
     "locked": false,
     "schema_version": 3,
     "solution": true
    }
   },
   "outputs": [
    {
     "data": {
      "text/plain": [
       "defined \u001b[32mfunction\u001b[39m \u001b[36mmakeIndexedList\u001b[39m\n",
       "\u001b[36mres51_1\u001b[39m: \u001b[32mList\u001b[39m[(\u001b[32mInt\u001b[39m, \u001b[32mString\u001b[39m)] = \u001b[33mList\u001b[39m(\n",
       "  (\u001b[32m0\u001b[39m, \u001b[32m\"hello\"\u001b[39m),\n",
       "  (\u001b[32m1\u001b[39m, \u001b[32m\"world\"\u001b[39m),\n",
       "  (\u001b[32m2\u001b[39m, \u001b[32m\"my\"\u001b[39m),\n",
       "  (\u001b[32m3\u001b[39m, \u001b[32m\"cat\"\u001b[39m),\n",
       "  (\u001b[32m4\u001b[39m, \u001b[32m\"is\"\u001b[39m),\n",
       "  (\u001b[32m5\u001b[39m, \u001b[32m\"grumpy\"\u001b[39m),\n",
       "  (\u001b[32m6\u001b[39m, \u001b[32m\"today\"\u001b[39m)\n",
       ")"
      ]
     },
     "execution_count": 52,
     "metadata": {},
     "output_type": "execute_result"
    }
   ],
   "source": [
    "def makeIndexedList(lst: List[String]): List[(Int,String)] = {\n",
    "   val (finalPos, finalList) = lst.foldLeft[(Int, List[(Int, String)])] ((0,Nil)) ((acc, elt) => acc match {\n",
    "        case (index, resultList) => {\n",
    "            (index +1, resultList++List((index,elt)))\n",
    "        }\n",
    "    })\n",
    "     finalList\n",
    "    \n",
    "\n",
    "    \n",
    "}\n",
    "\n",
    "makeIndexedList(List(\"hello\", \"world\", \"my\", \"cat\", \"is\", \"grumpy\", \"today\"))"
   ]
  },
  {
   "cell_type": "code",
   "execution_count": 53,
   "metadata": {
    "deletable": false,
    "editable": false,
    "nbgrader": {
     "cell_type": "code",
     "checksum": "83a81ee281a1d99bfd514c4ab0585e71",
     "grade": true,
     "grade_id": "cell-8c49d31044f1e0ae",
     "locked": true,
     "points": 8,
     "schema_version": 3,
     "solution": false
    }
   },
   "outputs": [
    {
     "name": "stdout",
     "output_type": "stream",
     "text": [
      "Tests Passed (8 points)"
     ]
    },
    {
     "data": {
      "text/plain": [
       "\u001b[36mt1\u001b[39m: \u001b[32mList\u001b[39m[(\u001b[32mInt\u001b[39m, \u001b[32mString\u001b[39m)] = \u001b[33mList\u001b[39m((\u001b[32m0\u001b[39m, \u001b[32m\"hello\"\u001b[39m))\n",
       "\u001b[36mt2\u001b[39m: \u001b[32mList\u001b[39m[(\u001b[32mInt\u001b[39m, \u001b[32mString\u001b[39m)] = \u001b[33mList\u001b[39m((\u001b[32m0\u001b[39m, \u001b[32m\"hello\"\u001b[39m), (\u001b[32m1\u001b[39m, \u001b[32m\"world\"\u001b[39m))\n",
       "\u001b[36mt3\u001b[39m: \u001b[32mList\u001b[39m[(\u001b[32mInt\u001b[39m, \u001b[32mString\u001b[39m)] = \u001b[33mList\u001b[39m()\n",
       "\u001b[36mt4\u001b[39m: \u001b[32mList\u001b[39m[(\u001b[32mInt\u001b[39m, \u001b[32mString\u001b[39m)] = \u001b[33mList\u001b[39m((\u001b[32m0\u001b[39m, \u001b[32m\"a\"\u001b[39m), (\u001b[32m1\u001b[39m, \u001b[32m\"b\"\u001b[39m), (\u001b[32m2\u001b[39m, \u001b[32m\"c\"\u001b[39m), (\u001b[32m3\u001b[39m, \u001b[32m\"d\"\u001b[39m), (\u001b[32m4\u001b[39m, \u001b[32m\"e\"\u001b[39m))"
      ]
     },
     "execution_count": 53,
     "metadata": {},
     "output_type": "execute_result"
    }
   ],
   "source": [
    "// BEGIN TEST\n",
    "val t1 = makeIndexedList(List(\"hello\"))\n",
    "assert(t1 == List((0,\"hello\")), s\"Test 1 failed - your code returned $t1\")\n",
    "\n",
    "val t2 = makeIndexedList(List(\"hello\", \"world\"))\n",
    "assert(t2 == List((0,\"hello\"), (1, \"world\")), s\"Test 2 failed - your code returned $t2\")\n",
    "\n",
    "val t3 = makeIndexedList(Nil)\n",
    "assert(t3 == Nil, s\"Test 3 failed - your code returned $t3\")\n",
    "\n",
    "val t4 = makeIndexedList(List(\"a\",\"b\",\"c\",\"d\",\"e\"))\n",
    "assert(t4 == List((0,\"a\"), (1,\"b\"), (2,\"c\"), (3,\"d\"), (4,\"e\")), s\"Test 4 failed - your code returned $t4\")\n",
    "\n",
    "passed(8)\n",
    "// END TEST"
   ]
  },
  {
   "cell_type": "markdown",
   "metadata": {
    "deletable": false,
    "editable": false,
    "nbgrader": {
     "cell_type": "markdown",
     "checksum": "cb397ef9d46a5c7a83ed5afd92945a00",
     "grade": false,
     "grade_id": "cell-0272d508d2481088",
     "locked": true,
     "schema_version": 3,
     "solution": false
    }
   },
   "source": [
    "### 2D: Value larger than index.\n",
    "\n",
    "Given a list of numbers, return a new list which includes those elements of the original list whose values are greater than or equal to their indices in the list.\n",
    "\n",
    "Example:\n",
    "\n",
    "Input: List(0, 1, 4, -5, -3, 5)\n",
    "\n",
    "In this list, at index 0, we have 0; index 1 is a 1, index 2 is a 4.\n",
    "At these indices note that the values are greater than the indices.\n",
    "However at index 3, we have a -5 in the list whose value is less than its index. The returned value should be\n",
    "\n",
    "Output: List(0, 1, 4, 5)\n",
    "\n",
    "\n",
    "You are allowed to use just the basic list operatios such as cons of an element to a list (::) and concatenation of two lists (++, or ::: operators). List API functions `reverse`, `map`, `filter`, `foldLeft` and `foldRight` but not other list API functions. Do not use __var__, __loops__ or __recursion__.\n"
   ]
  },
  {
   "cell_type": "code",
   "execution_count": 53,
   "metadata": {
    "deletable": false,
    "nbgrader": {
     "cell_type": "code",
     "checksum": "cfd33816e364f2a9603f9d1e7f37fc51",
     "grade": false,
     "grade_id": "cell-61ba46072b910129",
     "locked": false,
     "schema_version": 3,
     "solution": true
    }
   },
   "outputs": [
    {
     "name": "stderr",
     "output_type": "stream",
     "text": [
      "(console):3:1 expected (If | While | Try | DoWhile | For | Throw | Return | ImplicitLambda | SmallerExprOrLambda)\n",
      "}\n",
      "^"
     ]
    },
    {
     "ename": "",
     "evalue": "",
     "output_type": "error",
     "traceback": [
      "(console):3:1 expected (If | While | Try | DoWhile | For | Throw | Return | ImplicitLambda | SmallerExprOrLambda)\n}\n^"
     ]
    }
   ],
   "source": [
    "def valueLargerThanIndex(lst: List[Int]): List[Int] = {\n",
    "     val foldFunction = (acc: list[Int], i: Int) => if (acc > i)\n",
    "}\n",
    "\n",
    "\n",
    "// def valueLargerThanIndex(lst: List[Int]): List[Int] = {\n",
    "//   val (finalpos ,finalList) = lst.foldLeft[(Int, List[Int])] ((0,Nil)) ((acc, elt) => acc match {\n",
    "//         case (index, resultList) => { (index +1, resultList.filter( x => x >= index )) } })\n",
    "     \n",
    "//     finalList\n",
    "// }\n",
    "\n",
    "// // l.filter( x => x > index )\n",
    "\n",
    "valueLargerThanIndex(List(0, 1, 4, -5, -3, 5))"
   ]
  },
  {
   "cell_type": "code",
   "execution_count": 54,
   "metadata": {
    "deletable": false,
    "editable": false,
    "nbgrader": {
     "cell_type": "code",
     "checksum": "d0d9f1ad5302ae9304652c95f9b501ba",
     "grade": true,
     "grade_id": "cell-b766aa2568f6e251",
     "locked": true,
     "points": 7,
     "schema_version": 3,
     "solution": false
    }
   },
   "outputs": [
    {
     "ename": "",
     "evalue": "",
     "output_type": "error",
     "traceback": [
      "\u001b[31mjava.lang.AssertionError: assertion failed: Test 1 failed -- your code returned List()\u001b[39m\n  scala.Predef$.assert(\u001b[32mPredef.scala\u001b[39m:\u001b[32m223\u001b[39m)\n  ammonite.$sess.cmd53$Helper.<init>(\u001b[32mcmd53.sc\u001b[39m:\u001b[32m2\u001b[39m)\n  ammonite.$sess.cmd53$.<init>(\u001b[32mcmd53.sc\u001b[39m:\u001b[32m7\u001b[39m)\n  ammonite.$sess.cmd53$.<clinit>(\u001b[32mcmd53.sc\u001b[39m:\u001b[32m-1\u001b[39m)"
     ]
    }
   ],
   "source": [
    "// BEGIN TEST\n",
    "val i1 = valueLargerThanIndex(List(0, -2, 1, 4, 7,-5))\n",
    "assert(i1 == List(0,4,7), s\"Test 1 failed -- your code returned $i1\")\n",
    "\n",
    "val i2 = valueLargerThanIndex(List(-1, 1, 1, 1, 5,-5))\n",
    "assert(i2 == List(1,5), s\"Test 1 failed -- your code returned $i2\")\n",
    "\n",
    "val i3 = valueLargerThanIndex(Nil)\n",
    "assert(i3 == Nil, s\"Test 3 failed -- your code returned $i3\")\n",
    "\n",
    "passed(7)\n",
    "// END TEST"
   ]
  },
  {
   "cell_type": "code",
   "execution_count": 54,
   "metadata": {},
   "outputs": [
    {
     "name": "stderr",
     "output_type": "stream",
     "text": [
      "cmd54.sc:5: type mismatch;\n",
      " found   : List[Any]\n",
      " required: List[Int]\n",
      "            (index +1, resultList++List((index,elt)))\n",
      "                                 ^Compilation Failed"
     ]
    },
    {
     "ename": "",
     "evalue": "",
     "output_type": "error",
     "traceback": [
      "Compilation Failed"
     ]
    }
   ],
   "source": [
    "// Index a list out.\n",
    "// List(1,5,6,7,8,9,11)\n",
    "// List ((1,1), (2,5), (3,6), (4,7), (5,8), (6,9), (7,11))\n",
    "\n",
    "//1. What type of accumulator should we keep: (Int, List[(Int, Int)])\n",
    "//2. What is initial alue of this accumulator: (1, Nil) \n",
    "//3. What does the function for fold need to do? //increment the counter by 1, add an element with index to the end of the result list\n",
    "def indexList(lst: List[Int]): List[(Int)] = {\n",
    "   val (finalPos, finalList) = lst.foldLeft[(Int, List[(Int)])] ((0,Nil)) ((acc, elt) => acc match {\n",
    "        case (index, resultList) => {\n",
    "            \n",
    "            (index +1, resultList++List((index,elt)))\n",
    "        }\n",
    "    })\n",
    "     finalList\n",
    "    \n",
    "}\n",
    "\n",
    "indexList(List(1,5,6,7,8,9,11))"
   ]
  },
  {
   "cell_type": "code",
   "execution_count": null,
   "metadata": {},
   "outputs": [],
   "source": []
  },
  {
   "cell_type": "code",
   "execution_count": null,
   "metadata": {},
   "outputs": [],
   "source": []
  }
 ],
 "metadata": {
  "kernelspec": {
   "display_name": "Scala",
   "language": "scala",
   "name": "scala"
  },
  "language_info": {
   "codemirror_mode": "text/x-scala",
   "file_extension": ".scala",
   "mimetype": "text/x-scala",
   "name": "scala",
   "nbconvert_exporter": "script",
   "version": "2.12.11"
  }
 },
 "nbformat": 4,
 "nbformat_minor": 4
}
